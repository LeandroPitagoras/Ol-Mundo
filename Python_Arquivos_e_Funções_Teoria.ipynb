{
  "nbformat": 4,
  "nbformat_minor": 0,
  "metadata": {
    "colab": {
      "name": "Bônus 4 - Python Arquivos e Funções Teoria",
      "provenance": [],
      "collapsed_sections": []
    },
    "kernelspec": {
      "name": "python3",
      "display_name": "Python 3"
    },
    "language_info": {
      "name": "python"
    }
  },
  "cells": [
    {
      "cell_type": "markdown",
      "metadata": {
        "id": "pdghyd6IzE9I"
      },
      "source": [
        "**LEITURA**"
      ]
    },
    {
      "cell_type": "markdown",
      "metadata": {
        "id": "S1pIbmkuzWFV"
      },
      "source": [
        "Usar uma função do Colab para criar um arquivo para este módulo. Esse arquivo não é do python e sim da ferramenta"
      ]
    },
    {
      "cell_type": "markdown",
      "metadata": {
        "id": "RX1xd6l_0NU7"
      },
      "source": [
        "Arquivo CSV: banco.csv"
      ]
    },
    {
      "cell_type": "code",
      "metadata": {
        "colab": {
          "base_uri": "https://localhost:8080/"
        },
        "id": "z9lJO0-0y2_Y",
        "outputId": "5fcd86a9-8f53-48a9-bace-fcc5d9763d43"
      },
      "source": [
        "%%writefile banco.csv\n",
        "age, job, marital, education, default\n",
        "30, desempregado, casado, primario, não\n",
        "33, desempregado, casado, primario, sim\n",
        "35, terceiro, casado, secundario, não\n"
      ],
      "execution_count": null,
      "outputs": [
        {
          "output_type": "stream",
          "name": "stdout",
          "text": [
            "Overwriting banco.csv\n"
          ]
        }
      ]
    },
    {
      "cell_type": "markdown",
      "metadata": {
        "id": "c8cemINA45HM"
      },
      "source": [
        "comando para leitura:"
      ]
    },
    {
      "cell_type": "code",
      "metadata": {
        "id": "s9OsLl4dcUTq"
      },
      "source": [
        "with open(file='caminho do arquivo', mode='modo de leitura', encoding='<decodificador>') as <apelido>:\n",
        "  bloco de codigo"
      ],
      "execution_count": null,
      "outputs": []
    },
    {
      "cell_type": "markdown",
      "metadata": {
        "id": "ucM6Nq3s51yO"
      },
      "source": [
        "modos de leitura são:\n",
        " - r: Abrir o arquivo para leitura (padrão)\n"
      ]
    },
    {
      "cell_type": "markdown",
      "metadata": {
        "id": "F8qFoCeJ7vvI"
      },
      "source": [
        "READ: comando para ler todo o conteúdo de um arquivo"
      ]
    },
    {
      "cell_type": "code",
      "metadata": {
        "colab": {
          "base_uri": "https://localhost:8080/"
        },
        "id": "GJJkb6Ih6Gci",
        "outputId": "4b695ee9-0853-4221-b1f1-0f1a6a6945b1"
      },
      "source": [
        "conteúdo = None\n",
        "\n",
        "with open(file='./banco.csv', mode='r', encoding='utf8') as arquivo:\n",
        "  conteúdo = arquivo.read()\n",
        "\n",
        "print(conteúdo)"
      ],
      "execution_count": null,
      "outputs": [
        {
          "output_type": "stream",
          "name": "stdout",
          "text": [
            "age, job, marital, education, default\n",
            "30, desempregado, casado, primario, não\n",
            "33, desempregado, casado, primario, sim\n",
            "35, terceiro, casado, secundario, não\n"
          ]
        }
      ]
    },
    {
      "cell_type": "markdown",
      "metadata": {
        "id": "94nJWF5774-v"
      },
      "source": [
        "READLINE: lê uma linha por vez"
      ]
    },
    {
      "cell_type": "code",
      "metadata": {
        "colab": {
          "base_uri": "https://localhost:8080/"
        },
        "id": "wV6vWD-98AK1",
        "outputId": "8b0ed59b-7504-4ad3-975d-caac8333744e"
      },
      "source": [
        "conteúdo = []\n",
        "with open(file='./banco.csv', mode='r', encoding='utf8') as arquivo:\n",
        "  linha = arquivo.readline() # lê a primeira linha\n",
        "  while linha:\n",
        "    conteúdo.append(linha)\n",
        "    linha = arquivo.read() # lê uma nova linha, se a linha não existir, salva o valor None\n",
        "\n",
        "print(conteúdo)\n"
      ],
      "execution_count": null,
      "outputs": [
        {
          "output_type": "stream",
          "name": "stdout",
          "text": [
            "['age, job, marital, education, default\\n', '30, desempregado, casado, primario, não\\n33, desempregado, casado, primario, sim\\n35, terceiro, casado, secundario, não']\n"
          ]
        }
      ]
    },
    {
      "cell_type": "code",
      "metadata": {
        "colab": {
          "base_uri": "https://localhost:8080/"
        },
        "id": "ggQulX2397Q7",
        "outputId": "838037f6-9f47-4c70-9740-398472c49bf3"
      },
      "source": [
        "for linha in conteúdo:\n",
        "  print(linha)"
      ],
      "execution_count": null,
      "outputs": [
        {
          "output_type": "stream",
          "name": "stdout",
          "text": [
            "age, job, marital, education, default\n",
            "\n",
            "30, desempregado, casado, primario, não\n",
            "33, desempregado, casado, primario, sim\n",
            "35, terceiro, casado, secundario, não\n"
          ]
        }
      ]
    },
    {
      "cell_type": "code",
      "metadata": {
        "colab": {
          "base_uri": "https://localhost:8080/"
        },
        "id": "t_YViLfl-ciI",
        "outputId": "d21f4692-bfbb-4d25-c90e-b34a37dbb22a"
      },
      "source": [
        "idades = []\n",
        "with open(file='./banco.csv', mode='r', encoding='utf8') as arquivo:\n",
        "  linha = arquivo.readline() # lê o cabeçalho\n",
        "  linha = arquivo.readline() # lê a primeira linha\n",
        "  while linha:\n",
        "    linha_separada = linha.split(sep=',') # quebra a string nas virgulas e salva os resultados em uma lista \n",
        "    idade = linha_separada [0] # seleciona o primeiro elemento da lista \n",
        "    idade = int(idade) # converter o valor da string para inteiro\n",
        "    idades.append(idade) # salva o valor na lista de idades\n",
        "    linha = arquivo.readline() # lê uma nova linha, se a linha não existir, salva o valor None\n",
        "\n",
        "print(idades)\n"
      ],
      "execution_count": null,
      "outputs": [
        {
          "output_type": "stream",
          "name": "stdout",
          "text": [
            "[30, 33, 35]\n"
          ]
        }
      ]
    },
    {
      "cell_type": "markdown",
      "metadata": {
        "id": "ChykFTrPZTQU"
      },
      "source": [
        "**ESCRITA**"
      ]
    },
    {
      "cell_type": "code",
      "metadata": {
        "id": "6sN3pG90dYHO",
        "colab": {
          "base_uri": "https://localhost:8080/",
          "height": 163
        },
        "outputId": "87485897-aa0e-45a2-ae96-f122fd90df3e"
      },
      "source": [
        "with open(file='<caminho do arquivo do arquivo>', mode='<modo de leitura/escrita>', encoding='<decodificador>') as <apelido>:\n",
        "  bloco de código"
      ],
      "execution_count": null,
      "outputs": [
        {
          "output_type": "error",
          "ename": "SyntaxError",
          "evalue": "ignored",
          "traceback": [
            "\u001b[0;36m  File \u001b[0;32m\"<ipython-input-16-9a61fc4e6490>\"\u001b[0;36m, line \u001b[0;32m1\u001b[0m\n\u001b[0;31m    with open(file='<caminho do arquivo do arquivo>', mode='<modo de leitura/escrita>', encoding='<decodificador>') as <apelido>:\u001b[0m\n\u001b[0m                                                                                                                       ^\u001b[0m\n\u001b[0;31mSyntaxError\u001b[0m\u001b[0;31m:\u001b[0m invalid syntax\n"
          ]
        }
      ]
    },
    {
      "cell_type": "markdown",
      "metadata": {
        "id": "0lmOFfFAapCh"
      },
      "source": [
        "- r: abrir arquivo para leitura(padrão)\n",
        "- w: abrir arquivo para escrita (sobrescreve o arquivo original)\n",
        "- a abrir o arquivo para acrescentar (não sobrescreve o arquivo original)"
      ]
    },
    {
      "cell_type": "markdown",
      "metadata": {
        "id": "ugGW7Rpucixo"
      },
      "source": [
        "Modo Escrita"
      ]
    },
    {
      "cell_type": "code",
      "metadata": {
        "id": "s0_Hoo5bcEK0"
      },
      "source": [
        "with open(file='idades.csv', mode='w', encoding='utf8') as fp:\n",
        "  linha = 'idade'+ '\\n'\n",
        "  fp.write(linha)\n",
        "  for idade in idades:\n",
        "    linha = str(idade) +'\\n'\n",
        "    fp.write(linha)"
      ],
      "execution_count": null,
      "outputs": []
    },
    {
      "cell_type": "markdown",
      "metadata": {
        "id": "SkkyO6Y-e75g"
      },
      "source": [
        "Modo acréscimo"
      ]
    },
    {
      "cell_type": "code",
      "metadata": {
        "id": "4Qye999xe--m"
      },
      "source": [
        "with open(file='idades.csv', mode='a', encoding='utf8') as fp:\n",
        " for idade in idades:\n",
        "   linha = str(idade + 100) + '\\n'\n",
        "   fp.write(linha)"
      ],
      "execution_count": null,
      "outputs": []
    },
    {
      "cell_type": "code",
      "metadata": {
        "colab": {
          "base_uri": "https://localhost:8080/"
        },
        "id": "54YnN9Lvg9et",
        "outputId": "692c00cd-c5e0-459f-bd4c-7d0bab6c9f38"
      },
      "source": [
        "%%writefile banco-texto.txt\n",
        "age, job, marital, education, default\n",
        "30, desempregado, casado, primario, não\n",
        "33, desempregado, casado, primario, sim\n",
        "35, terceiro, casado, secundario, não"
      ],
      "execution_count": null,
      "outputs": [
        {
          "output_type": "stream",
          "name": "stdout",
          "text": [
            "Writing banco-texto.txt\n"
          ]
        }
      ]
    },
    {
      "cell_type": "code",
      "metadata": {
        "id": "SSNIs8NQhLH2"
      },
      "source": [
        "with open(file='./banco-texto.txt', mode='r', encoding='utf8') as leitura:\n",
        "  with open(file='./banco-texto.csv', mode='w', encoding='utf8') as escrita:\n",
        "    linha = leitura.readline()\n",
        "    while linha:\n",
        "      escrita.write(linha)\n",
        "      linha = leitura.readline()   "
      ],
      "execution_count": null,
      "outputs": []
    },
    {
      "cell_type": "markdown",
      "metadata": {
        "id": "cLpSGqfL-Lu7"
      },
      "source": [
        "FUNÇÕES"
      ]
    },
    {
      "cell_type": "markdown",
      "metadata": {
        "id": "VHWikhprBOdx"
      },
      "source": [
        "bloco de código que é executado quando chamado"
      ]
    },
    {
      "cell_type": "code",
      "metadata": {
        "id": "tYJ1sYLBS6Xm"
      },
      "source": [
        "def <nome>(<param 1>, <param>2, ...)\n",
        "  bloco de código\n",
        "  return <valor de retorno>"
      ],
      "execution_count": null,
      "outputs": []
    },
    {
      "cell_type": "code",
      "metadata": {
        "id": "YQkn-qZoB88g"
      },
      "source": [
        "def imprime(mensagem: str):\n",
        "  print(mensagem)"
      ],
      "execution_count": null,
      "outputs": []
    },
    {
      "cell_type": "code",
      "metadata": {
        "id": "NbgwNpmMCMlt"
      },
      "source": [
        "texto = 'Fala Pessoal, meu nome é LPT!'"
      ],
      "execution_count": null,
      "outputs": []
    },
    {
      "cell_type": "code",
      "metadata": {
        "colab": {
          "base_uri": "https://localhost:8080/"
        },
        "id": "G2D4LyKIDLi9",
        "outputId": "b28fcf1e-5e51-40c1-cbb0-466a55081498"
      },
      "source": [
        "imprime(mensagem=texto)"
      ],
      "execution_count": null,
      "outputs": [
        {
          "output_type": "stream",
          "name": "stdout",
          "text": [
            "Fala Pessoal, meu nome é LPT!\n"
          ]
        }
      ]
    },
    {
      "cell_type": "markdown",
      "metadata": {
        "id": "WfAa09dnEv7Q"
      },
      "source": [
        "Retorno"
      ]
    },
    {
      "cell_type": "markdown",
      "metadata": {
        "id": "fP-KizjyExnB"
      },
      "source": [
        "toda funçao retorno pelo menos um valor, se não específicado retorna como nulo"
      ]
    },
    {
      "cell_type": "code",
      "metadata": {
        "id": "yEC_JOymFFXS"
      },
      "source": [
        "def maiusculo(texto:str) -> str:\n",
        "  text_maiusculo = texto.upper()\n",
        "  return text_maiusculo"
      ],
      "execution_count": null,
      "outputs": []
    },
    {
      "cell_type": "code",
      "metadata": {
        "colab": {
          "base_uri": "https://localhost:8080/"
        },
        "id": "isMBUjU_FgIB",
        "outputId": "b483e1f2-5150-497c-b51a-973b7fe9a4c6"
      },
      "source": [
        "nome = 'lpt'\n",
        "print(nome)\n",
        "\n",
        "nome_maiusculo = maiusculo(texto=nome)\n",
        "print(nome_maiusculo)"
      ],
      "execution_count": null,
      "outputs": [
        {
          "output_type": "stream",
          "name": "stdout",
          "text": [
            "lpt\n",
            "LPT\n"
          ]
        }
      ]
    },
    {
      "cell_type": "code",
      "metadata": {
        "id": "L6ztfeFUF4Jq"
      },
      "source": [
        "def extrair_usuario__email_provedor(email: str) -> (str, str):\n",
        "  email_separado = email.split(sep='@')\n",
        "  usuario = email_separado[0]\n",
        "  provedor = email_separado[1]\n",
        "  return usuario, provedor"
      ],
      "execution_count": null,
      "outputs": []
    },
    {
      "cell_type": "code",
      "metadata": {
        "colab": {
          "base_uri": "https://localhost:8080/"
        },
        "id": "54hTvuGxGuea",
        "outputId": "a0df4544-e29f-4157-cd38-09d0d3d2966c"
      },
      "source": [
        "email = 'lpt@gmail.com'\n",
        "usuario, provedor = extrair_usuario__email_provedor(email=email)\n",
        "print(usuario)\n",
        "print(provedor)"
      ],
      "execution_count": null,
      "outputs": [
        {
          "output_type": "stream",
          "name": "stdout",
          "text": [
            "lpt\n",
            "gmail.com\n"
          ]
        }
      ]
    },
    {
      "cell_type": "markdown",
      "metadata": {
        "id": "8ObKJDH0JUE9"
      },
      "source": [
        "Parametros"
      ]
    },
    {
      "cell_type": "code",
      "metadata": {
        "id": "-4bskjZ0JbCH"
      },
      "source": [
        "def pi() -> float:\n",
        "  return 3,14159265359"
      ],
      "execution_count": null,
      "outputs": []
    },
    {
      "cell_type": "code",
      "metadata": {
        "colab": {
          "base_uri": "https://localhost:8080/"
        },
        "id": "jsSip0VsJsMh",
        "outputId": "a154845c-2077-4263-bb88-2d73d2a62894"
      },
      "source": [
        "pi = pi()\n",
        "print(pi)"
      ],
      "execution_count": null,
      "outputs": [
        {
          "output_type": "stream",
          "name": "stdout",
          "text": [
            "(3, 14159265359)\n"
          ]
        }
      ]
    },
    {
      "cell_type": "code",
      "metadata": {
        "id": "Fi7Ma4k7KP_I"
      },
      "source": [
        "def escreve_arquivo_csv(nome: str, cabecalho: str, conteudos: list) -> bool:\n",
        "\n",
        "  try:\n",
        "    with open(file=nome, mode='w', encoding='utf8') as fp:\n",
        "      linha = cabecalho + '\\n'\n",
        "      fp.write(linha)\n",
        "      for conteudo in conteudos:\n",
        "        linha = str(conteudo) + '\\n'\n",
        "        fp.write(linha)\n",
        "\n",
        "  except Exception as exc:\n",
        "    print(exc)\n",
        "    return False\n",
        "\n",
        "  return True"
      ],
      "execution_count": null,
      "outputs": []
    },
    {
      "cell_type": "code",
      "metadata": {
        "colab": {
          "base_uri": "https://localhost:8080/"
        },
        "id": "K9XVkA59MVsn",
        "outputId": "0f9f4696-39d9-4308-b5ee-7dfa7aa8af36"
      },
      "source": [
        "nome = 'idades-funcao.csv'\n",
        "cabecalho = 'idade'\n",
        "conteudos = [30, 33, 35, 30, 59, 35, 36, 39, 41, 43]\n",
        "\n",
        "escreveu_com_sucesso = escreve_arquivo_csv(nome=nome, cabecalho=cabecalho, conteudos=conteudos)\n",
        "print(escreveu_com_sucesso)"
      ],
      "execution_count": null,
      "outputs": [
        {
          "output_type": "stream",
          "name": "stdout",
          "text": [
            "True\n"
          ]
        }
      ]
    },
    {
      "cell_type": "markdown",
      "metadata": {
        "id": "9d3siDBgPVIB"
      },
      "source": [
        "Exercicio"
      ]
    },
    {
      "cell_type": "code",
      "metadata": {
        "colab": {
          "base_uri": "https://localhost:8080/"
        },
        "id": "sEeCyq2G-SIS",
        "outputId": "23201532-d8cf-4437-e4e1-44769f0fe9fa"
      },
      "source": [
        "valor_inicial, taxa_juros_anual, anos = 1000.00, 0.05, 10\n",
        "\n",
        "valo_final = valor_inicial\n",
        "for ano in range(1, anos+1):\n",
        "  valor_final = valor_inicial * (1+taxa_juros_anual)\n",
        "valor_final = round(valor_final, 2)\n",
        "print(f'Para valor inicialde R$ {valor_inicial} e uma taxa de juros anual de {taxa_juros_anual}, em {anos} anos você terá R$ {valor_final}')\n",
        "\n",
        "valor_inicial, taxa_juros_anual, anos = 1000.00, 0.03, 10\n",
        "\n",
        "valo_final = valor_inicial\n",
        "for ano in range(1, anos+1):\n",
        "  valor_final = valor_inicial * (1+taxa_juros_anual)\n",
        "valor_final = round(valor_final, 2)\n",
        "print(f'Para valor inicialde R$ {valor_inicial} e uma taxa de juros anual de {taxa_juros_anual}, em {anos} anos você terá R$ {valor_final}')\n",
        "\n",
        "\n"
      ],
      "execution_count": null,
      "outputs": [
        {
          "output_type": "stream",
          "name": "stdout",
          "text": [
            "Para valor inicialde R$ 1000.0 e uma taxa de juros anual de 0.05, em 10 anos você terá R$ 1050.0\n",
            "Para valor inicialde R$ 1000.0 e uma taxa de juros anual de 0.03, em 10 anos você terá R$ 1030.0\n"
          ]
        }
      ]
    },
    {
      "cell_type": "code",
      "metadata": {
        "id": "gf3kCqLPPraW"
      },
      "source": [
        "def juros_compostos_anual(valor_inicial:float, taxa_juros_anual:float, anos:int) -> float:\n",
        "  valor_final = valor_inicial\n",
        "  for ano in range(1, anos+1):\n",
        "    valor_final = valor_inicial * (1 + taxa_juros_anual)\n",
        "    valor_final = round(valor_final, 2)\n",
        "    print(f'Para valor inicial de R$ {valor_inicial} e uma taxa de juros anual de {taxa_juros_anual}, em {anos} anos você terá R$ {valor_final}')\n",
        "  return valor_final\n",
        "\n",
        "  valor_inicial, taxa_juros_anual, anos = 1000.00, 0.05, 10\n",
        "  valor_final = juros_compostos_anual(valor_inicial=valor_inicial, taxa_juros_anual=taxa_juros_anual, anos=anos)\n",
        "\n",
        "  valor_inicial, taxa_juros_anual, anos = 1000.00, 0.03, 10\n",
        "  valor_final = juros_compostos_anual(valor_inicial=valor_inicial, taxa_juros_anual=taxa_juros_anual, anos=anos)\n"
      ],
      "execution_count": null,
      "outputs": []
    }
  ]
}