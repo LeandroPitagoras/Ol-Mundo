{
  "nbformat": 4,
  "nbformat_minor": 0,
  "metadata": {
    "colab": {
      "name": "Bônus 2 - Estrutura de dados Teoria  ",
      "provenance": [],
      "collapsed_sections": [],
      "toc_visible": true
    },
    "kernelspec": {
      "name": "python3",
      "display_name": "Python 3"
    },
    "language_info": {
      "name": "python"
    }
  },
  "cells": [
    {
      "cell_type": "markdown",
      "metadata": {
        "id": "sNOTRQoGscu5"
      },
      "source": [
        "**Listas**"
      ]
    },
    {
      "cell_type": "markdown",
      "metadata": {
        "id": "CYzgD4O0QBWK"
      },
      "source": [
        "type LIST armazena sequencias mutáveis e ordenadas\n"
      ]
    },
    {
      "cell_type": "code",
      "metadata": {
        "colab": {
          "base_uri": "https://localhost:8080/"
        },
        "id": "0fxD6pMctbpL",
        "outputId": "62d8952e-5a83-4fe1-94f5-b327e05b2caa"
      },
      "source": [
        "w = [\"le\", \"pitagoras\", \"leandro\"]\n",
        "print(type(w))\n",
        "i = 20\n",
        "s = 723.15\n",
        "l = True\n",
        "w = [\"le\" , i , \"pitagoras\", s , l] \n",
        "print(w)\n",
        "print(type(w))"
      ],
      "execution_count": null,
      "outputs": [
        {
          "output_type": "stream",
          "name": "stdout",
          "text": [
            "<class 'list'>\n",
            "['le', 20, 'pitagoras', 723.15, True]\n",
            "<class 'list'>\n"
          ]
        }
      ]
    },
    {
      "cell_type": "markdown",
      "metadata": {
        "id": "622Uk8u3uwn7"
      },
      "source": [
        "Concatenação"
      ]
    },
    {
      "cell_type": "code",
      "metadata": {
        "colab": {
          "base_uri": "https://localhost:8080/"
        },
        "id": "lK4CAnu4uykx",
        "outputId": "cbc35bbf-0305-4899-cb5b-38390198c765"
      },
      "source": [
        "x = [\"a\",\"b\",\"c\"]\n",
        "y = [\"a\",\"r\",\"t\"]\n",
        "z = x + y\n",
        "print(z)"
      ],
      "execution_count": null,
      "outputs": [
        {
          "output_type": "stream",
          "name": "stdout",
          "text": [
            "['a', 'b', 'c', 'a', 'r', 't']\n"
          ]
        }
      ]
    },
    {
      "cell_type": "markdown",
      "metadata": {
        "id": "seOZh2jWvdbI"
      },
      "source": [
        "Fatiamento e Substituição"
      ]
    },
    {
      "cell_type": "code",
      "metadata": {
        "colab": {
          "base_uri": "https://localhost:8080/"
        },
        "id": "up_c5O22vfy_",
        "outputId": "66ff0ca6-9f6f-48ca-d086-4d4d613eb77f"
      },
      "source": [
        "s = str(x[0:2])\n",
        "print(\"são esses\", s)\n",
        "print(x)\n",
        "print(x[1:3])\n",
        "x[2] = \"zzzz\"\n",
        "print(x)\n"
      ],
      "execution_count": null,
      "outputs": [
        {
          "output_type": "stream",
          "name": "stdout",
          "text": [
            "são esses ['a', 'b']\n",
            "['a', 'b', 'c']\n",
            "['b', 'c']\n",
            "['a', 'b', 'zzzz']\n"
          ]
        }
      ]
    },
    {
      "cell_type": "markdown",
      "metadata": {
        "id": "daArtdUV0OgF"
      },
      "source": [
        "Métodos"
      ]
    },
    {
      "cell_type": "code",
      "metadata": {
        "colab": {
          "base_uri": "https://localhost:8080/"
        },
        "id": "KxfchzLW0RJZ",
        "outputId": "5a3e43ec-3b38-4d44-c42d-49d115f33c07"
      },
      "source": [
        "j = [0.05, 0.007, 0.02, 0.04, 0.08]\n",
        "print(j)\n",
        "j.insert(0, 100)\n",
        "print(j)\n",
        "j.append(200)\n",
        "print(j)\n",
        "j.remove(0.007)\n",
        "print(j)\n",
        "t = j.pop(2)\n",
        "print(t)\n",
        "print(j)\n",
        "b = \"leandropitagoras\"\n",
        "g = list(b)\n",
        "print(g)"
      ],
      "execution_count": null,
      "outputs": [
        {
          "output_type": "stream",
          "name": "stdout",
          "text": [
            "[0.05, 0.007, 0.02, 0.04, 0.08]\n",
            "[100, 0.05, 0.007, 0.02, 0.04, 0.08]\n",
            "[100, 0.05, 0.007, 0.02, 0.04, 0.08, 200]\n",
            "[100, 0.05, 0.02, 0.04, 0.08, 200]\n",
            "0.02\n",
            "[100, 0.05, 0.04, 0.08, 200]\n",
            "['l', 'e', 'a', 'n', 'd', 'r', 'o', 'p', 'i', 't', 'a', 'g', 'o', 'r', 'a', 's']\n"
          ]
        }
      ]
    },
    {
      "cell_type": "markdown",
      "metadata": {
        "id": "95k4F3Ulru4c"
      },
      "source": [
        "Exercício"
      ]
    },
    {
      "cell_type": "code",
      "metadata": {
        "colab": {
          "base_uri": "https://localhost:8080/"
        },
        "id": "Ua2g5WC7q6Bt",
        "outputId": "d3eca7c6-bebe-4db9-e7f8-b4f4c9dd4ec8"
      },
      "source": [
        "s = 1000\n",
        "t1 = 243\n",
        "t2 = -798.58\n",
        "t3 = 427.12\n",
        "t4 = -10.91\n",
        "td = []\n",
        "td.append(t1)\n",
        "td.append(t2)\n",
        "td.append(t3)\n",
        "td.append(t4)\n",
        "print(td)\n",
        "sf = s + td[0] + td[1] + td[2] + td[3]\n",
        "print(sf)"
      ],
      "execution_count": null,
      "outputs": [
        {
          "output_type": "stream",
          "name": "stdout",
          "text": [
            "[243, -798.58, 427.12, -10.91]\n",
            "860.63\n"
          ]
        }
      ]
    },
    {
      "cell_type": "markdown",
      "metadata": {
        "id": "fwnI-3o16fGc"
      },
      "source": [
        "**Conjuntos**"
      ]
    },
    {
      "cell_type": "markdown",
      "metadata": {
        "id": "pO64jq-gEf5E"
      },
      "source": [
        "type SET. Sequências imutáveis e desordenadas sem repetição"
      ]
    },
    {
      "cell_type": "code",
      "metadata": {
        "colab": {
          "base_uri": "https://localhost:8080/"
        },
        "id": "LnTpxbqeE1K1",
        "outputId": "3f570ac2-e36e-48b6-e1cf-fd15151bbaa8"
      },
      "source": [
        "f = {\"a\" , \"b\" , \"c\" , \"a\"}\n",
        "print(f)\n",
        "print(type(f))"
      ],
      "execution_count": null,
      "outputs": [
        {
          "output_type": "stream",
          "name": "stdout",
          "text": [
            "{'b', 'a', 'c'}\n",
            "<class 'set'>\n"
          ]
        }
      ]
    },
    {
      "cell_type": "markdown",
      "metadata": {
        "id": "2dF-grDoF9Gx"
      },
      "source": [
        "Operações"
      ]
    },
    {
      "cell_type": "code",
      "metadata": {
        "colab": {
          "base_uri": "https://localhost:8080/"
        },
        "id": "leVeT9TRF_sz",
        "outputId": "a588df2a-88fb-4cb3-de76-4a509acc847c"
      },
      "source": [
        "c = {\"b\", \"g\" , \"p\" , \"c\"}\n",
        "p = {\"f\" , \"f\" , \"p\" , \"c\" }\n",
        "d = {\"m\"}\n",
        "b = c - p\n",
        "print(b)\n",
        "v = p - d\n",
        "print(v)\n"
      ],
      "execution_count": null,
      "outputs": [
        {
          "output_type": "stream",
          "name": "stdout",
          "text": [
            "{'b', 'g'}\n",
            "{'f', 'c', 'p'}\n"
          ]
        }
      ]
    },
    {
      "cell_type": "markdown",
      "metadata": {
        "id": "jp0xHkncIno7"
      },
      "source": [
        "Métodos"
      ]
    },
    {
      "cell_type": "code",
      "metadata": {
        "colab": {
          "base_uri": "https://localhost:8080/"
        },
        "id": "V1Di1y_iIqVG",
        "outputId": "83bff592-40ca-40f4-bbf0-9ca82690037a"
      },
      "source": [
        "c = {\"a\", \"b\" , \"c\"}\n",
        "c.add(\"xxx\")\n",
        "print(c)\n",
        "c.remove(\"a\")\n",
        "print(c)"
      ],
      "execution_count": null,
      "outputs": [
        {
          "output_type": "stream",
          "name": "stdout",
          "text": [
            "{'b', 'a', 'xxx', 'c'}\n",
            "{'b', 'xxx', 'c'}\n"
          ]
        }
      ]
    },
    {
      "cell_type": "markdown",
      "metadata": {
        "id": "otHz3bSmJiDU"
      },
      "source": [
        "Conversão"
      ]
    },
    {
      "cell_type": "code",
      "metadata": {
        "colab": {
          "base_uri": "https://localhost:8080/"
        },
        "id": "P75fLfIYJkpx",
        "outputId": "eace6905-6a8d-4a53-ef12-ae82cde539af"
      },
      "source": [
        "t = {\"a\" , \"b\" , \"d\" , \"c\"}\n",
        "print(type(t))\n",
        "print(list(t))\n",
        "print(type(list(t)))\n",
        "\n",
        "d = [\"x\", \"w\", \"w\"]\n",
        "print(set(d))\n",
        "print(type(set(d)))\n"
      ],
      "execution_count": null,
      "outputs": [
        {
          "output_type": "stream",
          "name": "stdout",
          "text": [
            "<class 'set'>\n",
            "['d', 'b', 'a', 'c']\n",
            "<class 'list'>\n",
            "{'x', 'w'}\n",
            "<class 'set'>\n"
          ]
        }
      ]
    },
    {
      "cell_type": "markdown",
      "metadata": {
        "id": "z4QAZZr7EcZW"
      },
      "source": [
        "Exercicio"
      ]
    },
    {
      "cell_type": "code",
      "metadata": {
        "colab": {
          "base_uri": "https://localhost:8080/"
        },
        "id": "pTXODyKG6ibb",
        "outputId": "269b194b-e0da-43a7-b01d-187ef64d64af"
      },
      "source": [
        "x = [\"a\", \"b\", \"c\"]\n",
        "y = [\"d\", \"e\", \"f\"]\n",
        "z = [\"a\", \"f\", \"g\"]\n",
        "q = x + y + z\n",
        "print(q)\n",
        "print(list(set(q)))\n",
        "print(len(q))\n"
      ],
      "execution_count": null,
      "outputs": [
        {
          "output_type": "stream",
          "name": "stdout",
          "text": [
            "['a', 'b', 'c', 'd', 'e', 'f', 'a', 'f', 'g']\n",
            "['a', 'e', 'g', 'd', 'b', 'c', 'f']\n",
            "9\n"
          ]
        }
      ]
    },
    {
      "cell_type": "markdown",
      "metadata": {
        "id": "barXE0q9Y_fB"
      },
      "source": [
        "**Dicionário**"
      ]
    },
    {
      "cell_type": "markdown",
      "metadata": {
        "id": "n0MBnRb4b_SN"
      },
      "source": [
        "type DICT. Armazena no formato chave:valor"
      ]
    },
    {
      "cell_type": "code",
      "metadata": {
        "colab": {
          "base_uri": "https://localhost:8080/"
        },
        "id": "Cis-tdZxBWRk",
        "outputId": "bf161553-13c8-40d5-8d84-674475636340"
      },
      "source": [
        "x = {\"a\":2 , \"b\":3 , \"c\":4}\n",
        "print(x)"
      ],
      "execution_count": null,
      "outputs": [
        {
          "output_type": "stream",
          "name": "stdout",
          "text": [
            "{'a': 2, 'b': 3, 'c': 4}\n"
          ]
        }
      ]
    },
    {
      "cell_type": "code",
      "metadata": {
        "colab": {
          "base_uri": "https://localhost:8080/"
        },
        "id": "h5FhTH3mCYIr",
        "outputId": "54ac3f4f-098d-41f1-d2ef-079550772f3f"
      },
      "source": [
        "x = {\"a\": {\"c\": {\"d\":2}}}\n",
        "print(x)\n"
      ],
      "execution_count": null,
      "outputs": [
        {
          "output_type": "stream",
          "name": "stdout",
          "text": [
            "{'a': {'c': {'d': 2}}}\n"
          ]
        }
      ]
    },
    {
      "cell_type": "code",
      "metadata": {
        "colab": {
          "base_uri": "https://localhost:8080/"
        },
        "id": "gyz6XnpvRS1X",
        "outputId": "65ffb9a4-e4c0-4374-9174-a0b12f48b457"
      },
      "source": [
        "x = {\"a\":2 , \"b\":{\"c\":2 , \"d\":{\"z\":3}}}\n",
        "print(x)\n",
        "x[\"b\"][\"d\"][\"z\"]"
      ],
      "execution_count": null,
      "outputs": [
        {
          "output_type": "stream",
          "name": "stdout",
          "text": [
            "{'a': 2, 'b': {'c': 2, 'd': {'z': 3}}}\n"
          ]
        },
        {
          "output_type": "execute_result",
          "data": {
            "text/plain": [
              "3"
            ]
          },
          "metadata": {},
          "execution_count": 117
        }
      ]
    },
    {
      "cell_type": "markdown",
      "metadata": {
        "id": "5U3-qqlfZ1D4"
      },
      "source": [
        "Operações"
      ]
    },
    {
      "cell_type": "code",
      "metadata": {
        "colab": {
          "base_uri": "https://localhost:8080/"
        },
        "id": "zM-2YtUCZ4gZ",
        "outputId": "890a7cf7-adcd-47a7-ef0b-5fbec82f1f28"
      },
      "source": [
        "c = {\"a\":3 , \"b\":4}\n",
        "score_a = c[\"a\"]\n",
        "print(score_a)\n",
        "c[\"a\"] = 456\n",
        "print(c)\n",
        "c[\"d\"]=1000\n",
        "print(c)"
      ],
      "execution_count": null,
      "outputs": [
        {
          "output_type": "stream",
          "name": "stdout",
          "text": [
            "3\n",
            "{'a': 456, 'b': 4}\n",
            "{'a': 456, 'b': 4, 'd': 1000}\n"
          ]
        }
      ]
    },
    {
      "cell_type": "code",
      "metadata": {
        "colab": {
          "base_uri": "https://localhost:8080/"
        },
        "id": "j0cFPe5_b8sH",
        "outputId": "f400b950-3138-4c22-a696-643f2674e579"
      },
      "source": [
        "a = dict(z=1, b=3)\n",
        "print(a)"
      ],
      "execution_count": null,
      "outputs": [
        {
          "output_type": "stream",
          "name": "stdout",
          "text": [
            "{'z': 1, 'b': 3}\n"
          ]
        }
      ]
    },
    {
      "cell_type": "code",
      "metadata": {
        "colab": {
          "base_uri": "https://localhost:8080/"
        },
        "id": "0m9DWWdC0esc",
        "outputId": "eebe0c7e-6a34-434e-907d-007d80dd7039"
      },
      "source": [
        "a = {\n",
        "    \"a\":3 , \n",
        "     \"b\":4 , \n",
        "     \"c\":20\n",
        "     }\n",
        "print(a)\n",
        "print(type(a))\n",
        "a.update({\"b\":789})\n",
        "print(a)\n",
        "a.pop(\"b\")\n",
        "print(a)"
      ],
      "execution_count": null,
      "outputs": [
        {
          "output_type": "stream",
          "name": "stdout",
          "text": [
            "{'a': 3, 'b': 4, 'c': 20}\n",
            "<class 'dict'>\n",
            "{'a': 3, 'b': 789, 'c': 20}\n",
            "{'a': 3, 'c': 20}\n"
          ]
        }
      ]
    },
    {
      "cell_type": "code",
      "metadata": {
        "colab": {
          "base_uri": "https://localhost:8080/"
        },
        "id": "qNwPorz837mu",
        "outputId": "4fe0b881-b194-4a40-c0f2-1c6d41dc03b7"
      },
      "source": [
        "a = {\n",
        "    \"a\":3 , \n",
        "     \"b\":4 , \n",
        "     \"c\":20\n",
        "     }\n",
        "chaves = list(a.keys())\n",
        "print(chaves)\n",
        "print(type(chaves))"
      ],
      "execution_count": null,
      "outputs": [
        {
          "output_type": "stream",
          "name": "stdout",
          "text": [
            "['a', 'b', 'c']\n",
            "<class 'list'>\n"
          ]
        }
      ]
    },
    {
      "cell_type": "code",
      "metadata": {
        "colab": {
          "base_uri": "https://localhost:8080/"
        },
        "id": "Haa9dB2b5d3Z",
        "outputId": "c4e6c488-548a-4f08-e1ba-a94e29ccf7c8"
      },
      "source": [
        "a = {\n",
        "    \"a\":3 , \n",
        "     \"b\":4 , \n",
        "     \"c\":20\n",
        "     }\n",
        "valores = list(a.values())\n",
        "print(valores)\n",
        "print(type(valores))"
      ],
      "execution_count": null,
      "outputs": [
        {
          "output_type": "stream",
          "name": "stdout",
          "text": [
            "[3, 4, 20]\n",
            "<class 'list'>\n"
          ]
        }
      ]
    },
    {
      "cell_type": "markdown",
      "metadata": {
        "id": "Dc8A_Hzv5GNC"
      },
      "source": [
        "**Exercício**"
      ]
    },
    {
      "cell_type": "code",
      "metadata": {
        "colab": {
          "base_uri": "https://localhost:8080/"
        },
        "id": "mNuU-4A5ZEJm",
        "outputId": "5e5a83b9-8c23-4994-adcc-9131922ccaa6"
      },
      "source": [
        "w = []\n",
        "a = {\"z\":1 , \"q\":2}\n",
        "w.append(a)\n",
        "b = {\"x\":1 , \"v\":3}\n",
        "w.append(b)\n",
        "print(w)"
      ],
      "execution_count": null,
      "outputs": [
        {
          "output_type": "stream",
          "name": "stdout",
          "text": [
            "[{'z': 1, 'q': 2}, {'x': 1, 'v': 3}]\n"
          ]
        }
      ]
    }
  ]
}