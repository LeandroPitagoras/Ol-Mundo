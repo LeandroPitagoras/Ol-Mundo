{
  "nbformat": 4,
  "nbformat_minor": 0,
  "metadata": {
    "colab": {
      "name": "Bônus 4 - Python Arquivos e Funções Exercício",
      "provenance": [],
      "collapsed_sections": []
    },
    "kernelspec": {
      "name": "python3",
      "display_name": "Python 3"
    },
    "language_info": {
      "name": "python"
    }
  },
  "cells": [
    {
      "cell_type": "markdown",
      "metadata": {
        "id": "DycA-QT5Jfm4"
      },
      "source": [
        "carros.csv: arquivo csv com iformações sobre carros"
      ]
    },
    {
      "cell_type": "code",
      "metadata": {
        "colab": {
          "base_uri": "https://localhost:8080/"
        },
        "id": "_8id6ByFJOFx",
        "outputId": "e1a3e94e-cc66-4a89-c344-f16af4ad3a54"
      },
      "source": [
        "%%writefile carros.csv\n",
        "valor_venda, id, valor_manutenção, portas, pessoas, porta-malas\n",
        "1, vhigh, med, 2, 2, small\n",
        "2, med, vhigh, 2, 2, small\n",
        "3, low, vhigh, 2, 2, small\n",
        "4, low, high, 2, 2, small\n",
        "5, low, high, 2, 2, small\n",
        "6, low, high, 4, 4, big\n",
        "7, low, high, 4, 4, big\n",
        "8, low, med, 2, 2, small\n",
        "9, low, med, 2, 2, small\n",
        "10, low, med, 4, 4, big\n",
        "11, low, low, 2, 2, small\n",
        "12, low, low, 4, 4, small\n",
        "13, low, low, 4, 4, med"
      ],
      "execution_count": null,
      "outputs": [
        {
          "output_type": "stream",
          "name": "stdout",
          "text": [
            "Overwriting carros.csv\n"
          ]
        }
      ]
    },
    {
      "cell_type": "markdown",
      "metadata": {
        "id": "ckkmE7trMknU"
      },
      "source": [
        "musica.txt: arquivo texto com a letra da musica Roda Viva de Chico Buarque"
      ]
    },
    {
      "cell_type": "code",
      "metadata": {
        "colab": {
          "base_uri": "https://localhost:8080/"
        },
        "id": "Z76toQmYM1vu",
        "outputId": "121eb232-7fce-4612-ac1c-04f363bc918c"
      },
      "source": [
        "%%writefile musica.txt\n",
        "Roda Viva\n",
        "Chico Buarque\n",
        "\n",
        "Tem dias que a gente se sente\n",
        "Como quem partiu ou morreu\n",
        "A gente estancou de repente\n",
        "Ou foi o mundo então que cresceu\n",
        "A gente quer ter voz ativa\n",
        "No nosso destino mandar\n",
        "Mas eis que chega a roda-viva\n",
        "E carrega o destino pra lá\n",
        "Roda mundo, roda-gigante\n",
        "Rodamoinho, roda pião\n",
        "O tempo rodou num instante\n",
        "Nas voltas do meu coração\n",
        "A gente vai contra a corrente\n",
        "Até não poder resistir\n",
        "Na volta do barco é que sente\n",
        "O quanto deixou de cumprir\n",
        "Faz tempo que a gente cultiva\n",
        "A mais linda roseira que há\n",
        "Mas eis que chega a roda-viva\n",
        "E carrega a roseira pra lá\n",
        "Roda mundo, roda-gigante\n",
        "Rodamoinho, roda pião\n",
        "O tempo rodou num instante\n",
        "Nas voltas do meu coração"
      ],
      "execution_count": null,
      "outputs": [
        {
          "output_type": "stream",
          "name": "stdout",
          "text": [
            "Writing musica.txt\n"
          ]
        }
      ]
    },
    {
      "cell_type": "markdown",
      "metadata": {
        "id": "IX50JlT-Qock"
      },
      "source": [
        "Exercício 1"
      ]
    },
    {
      "cell_type": "code",
      "metadata": {
        "colab": {
          "base_uri": "https://localhost:8080/"
        },
        "id": "zBIcVnHrb3cz",
        "outputId": "afa37d54-bb92-4ae2-dc43-995ae8f79af7"
      },
      "source": [
        "valores_venda = []\n",
        "with open(file='./carros.csv', mode = 'r', encoding='utf8') as arquivo:\n",
        "  linha = arquivo.readline()\n",
        "  linha = arquivo.readline()\n",
        "  while linha:\n",
        "    linha_separada = linha.split(sep=',')\n",
        "    valor_venda = linha_separada [0]\n",
        "    valores_venda.append(valor_venda)\n",
        "    linha = arquivo.readline()\n",
        "\n",
        "print(valores_venda)\n"
      ],
      "execution_count": null,
      "outputs": [
        {
          "output_type": "stream",
          "name": "stdout",
          "text": [
            "['1', '2', '3', '4', '5', '6', '7', '8', '9', '10', '11', '12', '13']\n"
          ]
        }
      ]
    },
    {
      "cell_type": "code",
      "metadata": {
        "colab": {
          "base_uri": "https://localhost:8080/"
        },
        "id": "JXO_XpkdejhV",
        "outputId": "9a4e2c1b-5d11-4967-afc5-5f71bd097f70"
      },
      "source": [
        "total_pessoas = []\n",
        "with open(file='./carros.csv', mode = 'r', encoding='utf8') as arquivo:\n",
        "  linha = arquivo.readline()\n",
        "  linha = arquivo.readline()\n",
        "  while linha:\n",
        "    linha_separada = linha.split(sep=',')\n",
        "    pessoas = linha_separada [0]\n",
        "    total_pessoas.append(pessoas)\n",
        "    linha = arquivo.readline()\n",
        "\n",
        "print(total_pessoas)"
      ],
      "execution_count": null,
      "outputs": [
        {
          "output_type": "stream",
          "name": "stdout",
          "text": [
            "['1', '2', '3', '4', '5', '6', '7', '8', '9', '10', '11', '12', '13']\n"
          ]
        }
      ]
    },
    {
      "cell_type": "markdown",
      "metadata": {
        "id": "SlgmG1b-e7Kf"
      },
      "source": [
        "Exercício 2"
      ]
    },
    {
      "cell_type": "code",
      "metadata": {
        "colab": {
          "base_uri": "https://localhost:8080/",
          "height": 163
        },
        "id": "oIMiwNY7e-40",
        "outputId": "7449ba73-61a1-4f5f-ac5d-79c8cfc71ecd"
      },
      "source": [
        "linha10 = extrai_linha_txt(nome_arquivo='./musica.txt', numero_linha=10)"
      ],
      "execution_count": null,
      "outputs": [
        {
          "output_type": "error",
          "ename": "NameError",
          "evalue": "ignored",
          "traceback": [
            "\u001b[0;31m---------------------------------------------------------------------------\u001b[0m",
            "\u001b[0;31mNameError\u001b[0m                                 Traceback (most recent call last)",
            "\u001b[0;32m<ipython-input-31-7ff9bcbd3573>\u001b[0m in \u001b[0;36m<module>\u001b[0;34m()\u001b[0m\n\u001b[0;32m----> 1\u001b[0;31m \u001b[0mlinha10\u001b[0m \u001b[0;34m=\u001b[0m \u001b[0mextrai_linha_txt\u001b[0m\u001b[0;34m(\u001b[0m\u001b[0mnome_arquivo\u001b[0m\u001b[0;34m=\u001b[0m\u001b[0;34m'./musica.txt'\u001b[0m\u001b[0;34m,\u001b[0m \u001b[0mnumero_linha\u001b[0m\u001b[0;34m=\u001b[0m\u001b[0;36m10\u001b[0m\u001b[0;34m)\u001b[0m\u001b[0;34m\u001b[0m\u001b[0;34m\u001b[0m\u001b[0m\n\u001b[0m",
            "\u001b[0;31mNameError\u001b[0m: name 'extrai_linha_txt' is not defined"
          ]
        }
      ]
    }
  ]
}