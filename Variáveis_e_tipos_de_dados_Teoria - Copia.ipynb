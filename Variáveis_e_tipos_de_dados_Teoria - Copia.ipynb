{
  "nbformat": 4,
  "nbformat_minor": 0,
  "metadata": {
    "colab": {
      "name": "Bônus 1 - Python Variáveis e tipos de dados Teoria ",
      "provenance": [],
      "collapsed_sections": [],
      "toc_visible": true
    },
    "kernelspec": {
      "display_name": "Python 3",
      "name": "python3"
    }
  },
  "cells": [
    {
      "cell_type": "markdown",
      "metadata": {
        "id": "Y8P4Pqdeekv-"
      },
      "source": [
        "**Variáveis Numéricas**"
      ]
    },
    {
      "cell_type": "markdown",
      "metadata": {
        "id": "GntGKPwKl01x"
      },
      "source": [
        "Exercicio Motivação"
      ]
    },
    {
      "cell_type": "code",
      "metadata": {
        "colab": {
          "base_uri": "https://localhost:8080/"
        },
        "id": "BS_ZbQ-CWdJu",
        "outputId": "a2878f7e-6a29-4b83-c47d-77a5cc6eff4d"
      },
      "source": [
        "a = 3\n",
        "b = 4\n",
        "c = 5.5\n",
        "x = (a+b)\n",
        "y = b/c\n",
        "print(x)\n",
        "print(y)\n",
        "print(int(c))\n",
        "print(float(a))\n",
        "print(complex(c))"
      ],
      "execution_count": null,
      "outputs": [
        {
          "output_type": "stream",
          "name": "stdout",
          "text": [
            "7\n",
            "0.7272727272727273\n",
            "5\n",
            "3.0\n",
            "(5.5+0j)\n"
          ]
        }
      ]
    },
    {
      "cell_type": "markdown",
      "metadata": {
        "id": "cTO9nSugesLq"
      },
      "source": [
        "**Variáveis Strings**"
      ]
    },
    {
      "cell_type": "markdown",
      "metadata": {
        "id": "FGkDiAPLljXH"
      },
      "source": [
        "Definição"
      ]
    },
    {
      "cell_type": "code",
      "metadata": {
        "colab": {
          "base_uri": "https://localhost:8080/"
        },
        "id": "cY9WqZNuexxK",
        "outputId": "a673e186-0e19-4719-965c-f70583ccc247"
      },
      "source": [
        "Andressa = \"Bela\"\n",
        "print(type(Andressa))\n",
        "\n",
        "Mala = \" \"\n",
        "print(Mala)"
      ],
      "execution_count": null,
      "outputs": [
        {
          "output_type": "stream",
          "name": "stdout",
          "text": [
            "<class 'str'>\n",
            " \n"
          ]
        }
      ]
    },
    {
      "cell_type": "markdown",
      "metadata": {
        "id": "rFVa2D9ilgXz"
      },
      "source": [
        "Concatenação"
      ]
    },
    {
      "cell_type": "code",
      "metadata": {
        "colab": {
          "base_uri": "https://localhost:8080/"
        },
        "id": "mmAwKpYXkD45",
        "outputId": "475604ad-3c98-4c4c-d3ca-89c1a30c90e7"
      },
      "source": [
        "nome = \"Leandro Pitagoras\"\n",
        "sobrenome = \"Teixeira\"\n",
        "apresentação = \"olá, sou o \" + nome + \" \" + sobrenome + \".\"\n",
        "print(apresentação)\n",
        "apresent = f\"olá, sou o {nome} {sobrenome}\"\n",
        "print(apresent)"
      ],
      "execution_count": null,
      "outputs": [
        {
          "output_type": "stream",
          "name": "stdout",
          "text": [
            "olá, sou o Leandro Pitagoras Teixeira.\n",
            "olá, sou o Leandro Pitagoras Teixeira\n"
          ]
        }
      ]
    },
    {
      "cell_type": "markdown",
      "metadata": {
        "id": "XCmbQoZXl4P_"
      },
      "source": [
        "Fatiamento"
      ]
    },
    {
      "cell_type": "code",
      "metadata": {
        "colab": {
          "base_uri": "https://localhost:8080/"
        },
        "id": "Gj27VWpzmAGT",
        "outputId": "167de576-ae7b-402b-c56e-8fec7be0a5f8"
      },
      "source": [
        "email = \"leandropitagoras@gmail.com\"\n",
        "print(email[16]+\" \" \"na posição 16\")\n",
        "print(email[-1]+ \" \"+\"na posição -1\")\n",
        "print(email[0:16])\n"
      ],
      "execution_count": null,
      "outputs": [
        {
          "output_type": "stream",
          "name": "stdout",
          "text": [
            "@ na posição 16\n",
            "m na posição -1\n",
            "leandropitagoras\n"
          ]
        }
      ]
    },
    {
      "cell_type": "markdown",
      "metadata": {
        "id": "d6x7SZInuKp3"
      },
      "source": [
        "Métodos"
      ]
    },
    {
      "cell_type": "code",
      "metadata": {
        "colab": {
          "base_uri": "https://localhost:8080/"
        },
        "id": "QUpgS8EGuNdI",
        "outputId": "8d22635e-5e9f-4336-cae1-141c711563b9"
      },
      "source": [
        "endereço = 'Odete Laura Foggiato, 481, Atuba, Curitiba'\n",
        "print(endereço.upper())\n",
        "\n",
        "posição = endereço.find(\"Atuba\")\n",
        "print(posição)\n",
        "\n",
        "print(endereço.replace(\"Atuba\" , \"Bairro\"))"
      ],
      "execution_count": null,
      "outputs": [
        {
          "output_type": "stream",
          "name": "stdout",
          "text": [
            "ODETE LAURA FOGGIATO, 481, ATUBA, CURITIBA\n",
            "27\n",
            "Odete Laura Foggiato, 481, Bairro, Curitiba\n"
          ]
        }
      ]
    },
    {
      "cell_type": "markdown",
      "metadata": {
        "id": "7Hrwrv2rvxSu"
      },
      "source": [
        "Conversão"
      ]
    },
    {
      "cell_type": "code",
      "metadata": {
        "colab": {
          "base_uri": "https://localhost:8080/"
        },
        "id": "AgOrmw-rvy1y",
        "outputId": "c02e8e22-1621-4c85-974b-73b5488fca88"
      },
      "source": [
        "idade = 44\n",
        "print(type(idade))\n",
        "idade = str(idade)\n",
        "print(type(idade))"
      ],
      "execution_count": null,
      "outputs": [
        {
          "output_type": "stream",
          "name": "stdout",
          "text": [
            "<class 'int'>\n",
            "<class 'str'>\n"
          ]
        }
      ]
    },
    {
      "cell_type": "code",
      "metadata": {
        "colab": {
          "base_uri": "https://localhost:8080/"
        },
        "id": "NVa5bQj5wUED",
        "outputId": "e487e4bf-3e22-4085-f765-d62c9bc8ff47"
      },
      "source": [
        "fat = \"R$ 35 mi\"\n",
        "print(fat)\n",
        "print(type(fat))\n",
        "\n",
        "fat = float(fat[3:5])\n",
        "print(fat)\n",
        "print(type(fat))"
      ],
      "execution_count": null,
      "outputs": [
        {
          "output_type": "stream",
          "name": "stdout",
          "text": [
            "R$ 35 mi\n",
            "<class 'str'>\n",
            "35.0\n",
            "<class 'float'>\n"
          ]
        }
      ]
    },
    {
      "cell_type": "markdown",
      "metadata": {
        "id": "H0tCyQPWlsDH"
      },
      "source": [
        "Exercicio Motivação"
      ]
    },
    {
      "cell_type": "code",
      "metadata": {
        "colab": {
          "base_uri": "https://localhost:8080/"
        },
        "id": "7GUhq-7-j71X",
        "outputId": "5ba2f365-222d-4470-feed-154fc3ebf7df"
      },
      "source": [
        "# sua empresa\n",
        "lat = \"-22.005320\"\n",
        "lon = \"-47.891040\"\n",
        "# startup adquirida\n",
        "latlon = \"-22.005320;-47.891040\"\n",
        "\n",
        "posiçao_char_divisão = latlon.find(';')\n",
        "print(posiçao_char_divisão)\n",
        "\n",
        "lat_startup = latlon[0:posiçao_char_divisão]\n",
        "print(lat_startup)\n",
        "\n",
        "lon_startup = latlon[posiçao_char_divisão+1:len(latlon)]\n",
        "print(lon_startup)"
      ],
      "execution_count": null,
      "outputs": [
        {
          "output_type": "stream",
          "name": "stdout",
          "text": [
            "10\n",
            "-22.005320\n",
            "-47.891040\n"
          ]
        }
      ]
    },
    {
      "cell_type": "markdown",
      "metadata": {
        "id": "R4SqZneoyGlP"
      },
      "source": [
        "**Variáveis Booleanas**"
      ]
    },
    {
      "cell_type": "markdown",
      "metadata": {
        "id": "M5IIkAgXzmsc"
      },
      "source": [
        "Definição"
      ]
    },
    {
      "cell_type": "code",
      "metadata": {
        "colab": {
          "base_uri": "https://localhost:8080/"
        },
        "id": "HdYEUuTezPaS",
        "outputId": "9bbed058-90dc-4df1-b11c-1270f66d10aa"
      },
      "source": [
        "verdadeiro = True\n",
        "print(verdadeiro)\n",
        "print(type(verdadeiro))"
      ],
      "execution_count": null,
      "outputs": [
        {
          "output_type": "stream",
          "name": "stdout",
          "text": [
            "True\n",
            "<class 'bool'>\n"
          ]
        }
      ]
    },
    {
      "cell_type": "markdown",
      "metadata": {
        "id": "PYuuMUqR7ftw"
      },
      "source": [
        "Operações > < == <= >= !="
      ]
    },
    {
      "cell_type": "code",
      "metadata": {
        "colab": {
          "base_uri": "https://localhost:8080/"
        },
        "id": "TjdGC_BH0FrZ",
        "outputId": "a461c3ad-2f2b-42b6-d37b-64c08914c721"
      },
      "source": [
        "Saldo_em_conta = 400\n",
        "Valor_do_saque = 300\n",
        "pode_sacar = Valor_do_saque <= Saldo_em_conta\n",
        "print(pode_sacar) \n",
        "\n",
        "seg = 234\n",
        "cad = 678\n",
        "sim = seg == cad\n",
        "print(sim)"
      ],
      "execution_count": null,
      "outputs": [
        {
          "output_type": "stream",
          "name": "stdout",
          "text": [
            "True\n",
            "False\n"
          ]
        }
      ]
    },
    {
      "cell_type": "markdown",
      "metadata": {
        "id": "yLAVS2NY6-M2"
      },
      "source": [
        "Operações |ou &e notnão"
      ]
    },
    {
      "cell_type": "code",
      "metadata": {
        "colab": {
          "base_uri": "https://localhost:8080/"
        },
        "id": "arFV7ss42l2D",
        "outputId": "560738b1-c9a9-46a9-d723-4470c4dcc7fa"
      },
      "source": [
        "A = True\n",
        "B = False\n",
        "print(A | B)\n",
        "print(A & B)\n",
        "print(not(A))\n"
      ],
      "execution_count": null,
      "outputs": [
        {
          "output_type": "stream",
          "name": "stdout",
          "text": [
            "True\n",
            "False\n",
            "False\n"
          ]
        }
      ]
    },
    {
      "cell_type": "markdown",
      "metadata": {
        "id": "c1PG-fwd4Zzm"
      },
      "source": [
        "Conversão"
      ]
    },
    {
      "cell_type": "code",
      "metadata": {
        "colab": {
          "base_uri": "https://localhost:8080/"
        },
        "id": "MqGz8O4s4cvv",
        "outputId": "4518b9f8-4f4b-48ca-ea49-0b466a7d4141"
      },
      "source": [
        "idade = 44\n",
        "tipo_sanguineo = \"A\"\n",
        "filhos = 0\n",
        "tel_fixo = None\n",
        "tel_fixo = \"\"\n",
        "print(bool(idade))\n",
        "print(bool(tipo_sanguineo))\n",
        "print(bool(filhos))\n",
        "print(bool(tel_fixo))\n",
        "print(bool(tel_fixo))\n"
      ],
      "execution_count": null,
      "outputs": [
        {
          "output_type": "stream",
          "name": "stdout",
          "text": [
            "True\n",
            "True\n",
            "False\n",
            "False\n",
            "False\n"
          ]
        }
      ]
    },
    {
      "cell_type": "markdown",
      "metadata": {
        "id": "ieU-5qRQ1Lma"
      },
      "source": [
        "Exercicio Motivação"
      ]
    },
    {
      "cell_type": "code",
      "metadata": {
        "colab": {
          "base_uri": "https://localhost:8080/"
        },
        "id": "-MNocOAOyJrM",
        "outputId": "14c37a35-4ff1-410d-a6fb-667bc0de8120"
      },
      "source": [
        "usuário = \"leandropitagoras\"\n",
        "senha = \"123\"\n",
        "usuário_cadastro = \"leandropitagoras\"\n",
        "senha_cadastro = \"133\"\n",
        "usu_igual = usuário==usuário_cadastro\n",
        "sen_igual = senha==senha_cadastro\n",
        "conceder_acesso = usu_igual & sen_igual\n",
        "print(usu_igual)\n",
        "print(sen_igual)\n",
        "print(conceder_acesso)\n"
      ],
      "execution_count": null,
      "outputs": [
        {
          "output_type": "stream",
          "name": "stdout",
          "text": [
            "True\n",
            "False\n",
            "False\n"
          ]
        }
      ]
    }
  ]
}