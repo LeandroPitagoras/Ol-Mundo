{
  "nbformat": 4,
  "nbformat_minor": 0,
  "metadata": {
    "colab": {
      "name": "Bônus 3 - Fluxo condicional e Repetição Teoria",
      "provenance": [],
      "collapsed_sections": []
    },
    "kernelspec": {
      "name": "python3",
      "display_name": "Python 3"
    },
    "language_info": {
      "name": "python"
    }
  },
  "cells": [
    {
      "cell_type": "markdown",
      "metadata": {
        "id": "iUKQIJaLBprN"
      },
      "source": [
        "**Estrutura condicional if/else/elif**"
      ]
    },
    {
      "cell_type": "markdown",
      "metadata": {
        "id": "MPEEwpY8CM9F"
      },
      "source": [
        "alteração do fluxo lógico. tomar decisão lógicas."
      ]
    },
    {
      "cell_type": "code",
      "metadata": {
        "id": "F12SVAjYBcZM"
      },
      "source": [
        "if <booleano / comparação lógica> == True: \n",
        "  <executa esse código>\n",
        "  else: \n",
        "    <senão executa esse código> "
      ],
      "execution_count": null,
      "outputs": []
    },
    {
      "cell_type": "code",
      "metadata": {
        "colab": {
          "base_uri": "https://localhost:8080/"
        },
        "id": "7fU2O5kkDVTx",
        "outputId": "2d37a6e6-3e4f-49b5-8244-5bbdc8dd14a1"
      },
      "source": [
        "if False: \n",
        "  print(\"verdadeiro\")\n",
        "else:\n",
        "  print(\"falso\")"
      ],
      "execution_count": null,
      "outputs": [
        {
          "output_type": "stream",
          "name": "stdout",
          "text": [
            "falso\n"
          ]
        }
      ]
    },
    {
      "cell_type": "code",
      "metadata": {
        "colab": {
          "base_uri": "https://localhost:8080/"
        },
        "id": "7xC9FDleD6J7",
        "outputId": "c874cbc0-eb7d-41db-8ecf-d2d47fd99246"
      },
      "source": [
        "a = \"827\"\n",
        "b = \"010\"\n",
        "c = a <= b\n",
        "print(c)"
      ],
      "execution_count": null,
      "outputs": [
        {
          "output_type": "stream",
          "name": "stdout",
          "text": [
            "False\n"
          ]
        }
      ]
    },
    {
      "cell_type": "code",
      "metadata": {
        "colab": {
          "base_uri": "https://localhost:8080/"
        },
        "id": "53gA3_1EEXjn",
        "outputId": "abaae62d-0571-4ec4-cd56-efd582b3dea7"
      },
      "source": [
        "if c: \n",
        "  print(\"ok\")\n",
        "else:\n",
        "  print(\"nok\")"
      ],
      "execution_count": null,
      "outputs": [
        {
          "output_type": "stream",
          "name": "stdout",
          "text": [
            "nok\n"
          ]
        }
      ]
    },
    {
      "cell_type": "code",
      "metadata": {
        "colab": {
          "base_uri": "https://localhost:8080/"
        },
        "id": "6Iw_llKvFTal",
        "outputId": "7d822d01-cece-4689-ce92-a5352fd35e50"
      },
      "source": [
        "if a == b:\n",
        "  print(\"ok\")\n",
        "else: \n",
        "  print(\"nok\")"
      ],
      "execution_count": null,
      "outputs": [
        {
          "output_type": "stream",
          "name": "stdout",
          "text": [
            "nok\n"
          ]
        }
      ]
    },
    {
      "cell_type": "markdown",
      "metadata": {
        "id": "WNl0fblIHpmp"
      },
      "source": [
        "com o AND"
      ]
    },
    {
      "cell_type": "code",
      "metadata": {
        "colab": {
          "base_uri": "https://localhost:8080/"
        },
        "id": "HsTjmjX2F_Qj",
        "outputId": "77d4a0d1-3644-4a9d-88e5-083040f9611b"
      },
      "source": [
        "a = \"345\"\n",
        "b = \"827\"\n",
        "d = \"7783\"\n",
        "e = \"7783\"\n",
        "\n",
        "if (a == b) & (d == e):\n",
        "  print(\"ok\")\n",
        "else:\n",
        "  print(\"nok\")"
      ],
      "execution_count": null,
      "outputs": [
        {
          "output_type": "stream",
          "name": "stdout",
          "text": [
            "nok\n"
          ]
        }
      ]
    },
    {
      "cell_type": "markdown",
      "metadata": {
        "id": "Ffe2dcNwHsTY"
      },
      "source": [
        "com o OR"
      ]
    },
    {
      "cell_type": "code",
      "metadata": {
        "colab": {
          "base_uri": "https://localhost:8080/"
        },
        "id": "BM4dGHnfHPBG",
        "outputId": "1dc5981c-a356-4225-d24b-f4d16693845d"
      },
      "source": [
        "if (a != b) | (d != e):\n",
        "  print(\"ok\")\n",
        "else:\n",
        "  print(\"nok\")"
      ],
      "execution_count": null,
      "outputs": [
        {
          "output_type": "stream",
          "name": "stdout",
          "text": [
            "ok\n"
          ]
        }
      ]
    },
    {
      "cell_type": "markdown",
      "metadata": {
        "id": "2QlREsYkIKd_"
      },
      "source": [
        "if/elif/else : avaliar multiplas condições"
      ]
    },
    {
      "cell_type": "code",
      "metadata": {
        "id": "EuxmzgGnIVhb"
      },
      "source": [
        "if <1o booleanos / 1a comparação lógica> == True:\n",
        "  <execute esse código se a 1a condição for verdade>\n",
        "elif <2o booleanos / 2a comparação lógica> == True:\n",
        "  <execute esse código se a 1a condição for verdade> \n",
        "else: \n",
        "  <senão execute esse código>\n",
        "  "
      ],
      "execution_count": null,
      "outputs": []
    },
    {
      "cell_type": "code",
      "metadata": {
        "colab": {
          "base_uri": "https://localhost:8080/"
        },
        "id": "xlD9sPglJg6v",
        "outputId": "80b3a09a-60ea-4756-bbad-ef94b04e41fd"
      },
      "source": [
        "a = \"822\"\n",
        "b = \"82\"\n",
        "d = \"5555\"\n",
        "e = \"5555\"\n",
        "if (a == b) & (d == e):\n",
        "  print(\"ok\")\n",
        "elif (a == b) | (d == e):\n",
        "  print(\"o a fede\")\n",
        "elif (a == b) & (d != e):\n",
        "  print(\"o a é invalido\")\n",
        "else:\n",
        "  print(\"nok\")\n"
      ],
      "execution_count": null,
      "outputs": [
        {
          "output_type": "stream",
          "name": "stdout",
          "text": [
            "o a fede\n"
          ]
        }
      ]
    },
    {
      "cell_type": "markdown",
      "metadata": {
        "id": "yf2dDYj7AfBI"
      },
      "source": [
        "**Estrutura condicional TRY/EXCEPT/FINALLY**"
      ]
    },
    {
      "cell_type": "markdown",
      "metadata": {
        "id": "HQBhE1yZ2Wff"
      },
      "source": [
        "lidar com possíveis erros"
      ]
    },
    {
      "cell_type": "code",
      "metadata": {
        "colab": {
          "base_uri": "https://localhost:8080/"
        },
        "id": "-Bd3ibObC93y",
        "outputId": "758cfd79-dfb3-4e05-ccde-7f72d7b27ea4"
      },
      "source": [
        "preço = 132.85\n",
        "pessoas = 0\n",
        "try:\n",
        "  VP = preço / pessoas\n",
        "  print(VP)\n",
        "except ZeroDivisionError:\n",
        "  print(\"numero de pessoas inválido\")"
      ],
      "execution_count": null,
      "outputs": [
        {
          "output_type": "stream",
          "name": "stdout",
          "text": [
            "numero de pessoas inválido\n"
          ]
        }
      ]
    },
    {
      "cell_type": "code",
      "metadata": {
        "colab": {
          "base_uri": "https://localhost:8080/"
        },
        "id": "xDaQRGXGDw2P",
        "outputId": "595b441c-eedf-41d8-af86-6c6707ea141e"
      },
      "source": [
        "anos = [2019, 2020, 2021]\n",
        "try:\n",
        "  ano_atual = anos[5]\n",
        "  print(ano_atual)\n",
        "except Exception:\n",
        "  print(\"lista de anos inferior ao valor pedido. Espera-se um valor entre: \" + str(len(anos) - 1))"
      ],
      "execution_count": null,
      "outputs": [
        {
          "output_type": "stream",
          "name": "stdout",
          "text": [
            "lista de anos inferior ao valor pedido. Espera-se um valor entre: 2\n"
          ]
        }
      ]
    },
    {
      "cell_type": "code",
      "metadata": {
        "colab": {
          "base_uri": "https://localhost:8080/"
        },
        "id": "JaidBepiGKg4",
        "outputId": "d9e71257-78f6-4acb-c829-94431c6dcf1c"
      },
      "source": [
        "anos = [2019, 2020, 2021]\n",
        "try:\n",
        "  ano_atual = anos[3]\n",
        "  print(ano_atual)\n",
        "except Exception as exc:\n",
        "  print(\"descrição da exceção:\" + str(exc))\n",
        "  print((\"tipo de exceçao:\" + str(type(exc)) ))\n",
        "  print(\"Lista de anos menor que o valor escolhido. Espera-se um valor entre 0 e \" + str(len(anos) - 1))\n"
      ],
      "execution_count": null,
      "outputs": [
        {
          "output_type": "stream",
          "name": "stdout",
          "text": [
            "descrição da exceção:list index out of range\n",
            "tipo de exceçao:<class 'IndexError'>\n",
            "Lista de anos menor que o valor escolhido. Espera-se um valor entre 0 e 2\n"
          ]
        }
      ]
    },
    {
      "cell_type": "markdown",
      "metadata": {
        "id": "NRX1UnqbI5Sr"
      },
      "source": [
        "sempre analisar erro do mais específico para depois o genérico"
      ]
    },
    {
      "cell_type": "code",
      "metadata": {
        "colab": {
          "base_uri": "https://localhost:8080/"
        },
        "id": "9JhlM9PIIcUI",
        "outputId": "17d3667f-be5f-4480-dd6a-0d29a2fa3b38"
      },
      "source": [
        "anos = [2019, 2020, 2021]\n",
        "try:\n",
        "  ano_atual = anos[3]\n",
        "  print(ano_atual)\n",
        "except Exception:\n",
        "  print(\"lista de anos inferior ao valor pedido. Espera-se um valor entre: \" + str(len(anos) - 1))\n",
        "except Exception as exc:\n",
        "  print(exc)\n",
        "  print(\"erro genérico\")"
      ],
      "execution_count": null,
      "outputs": [
        {
          "output_type": "stream",
          "name": "stdout",
          "text": [
            "lista de anos inferior ao valor pedido. Espera-se um valor entre: 2\n"
          ]
        }
      ]
    },
    {
      "cell_type": "code",
      "metadata": {
        "colab": {
          "base_uri": "https://localhost:8080/"
        },
        "id": "QLvdfEb2JBlV",
        "outputId": "9af1218f-e858-4118-8fd2-9f5526866fa9"
      },
      "source": [
        "nome = \"LPT\"\n",
        "idade = 44\n",
        "try:\n",
        "  apresentação = \"meu nome é\" + nome + \"eu tenho \" + idade\n",
        "except TypeError:\n",
        "  idade = str(idade)\n",
        "finally:\n",
        "  print('2n chance')\n",
        "  apresentação = \"meu nome é \" + nome + \" eu tenho \" + idade\n",
        "  print(apresentação)"
      ],
      "execution_count": null,
      "outputs": [
        {
          "output_type": "stream",
          "name": "stdout",
          "text": [
            "2n chance\n",
            "meu nome é LPT eu tenho 44\n"
          ]
        }
      ]
    },
    {
      "cell_type": "markdown",
      "metadata": {
        "id": "HslphicxH04z"
      },
      "source": [
        "**Estrutura de repetição FOR / IN**: Fluxo Condicional & Repetição"
      ]
    },
    {
      "cell_type": "markdown",
      "metadata": {
        "id": "pu5n6EJq2kxR"
      },
      "source": [
        "  realizar uma série de atividades repetidamente"
      ]
    },
    {
      "cell_type": "code",
      "metadata": {
        "id": "xxNViNVRLT2t"
      },
      "source": [
        "for variaável_temporária in coleção:\n",
        "  <execute esse código>"
      ],
      "execution_count": null,
      "outputs": []
    },
    {
      "cell_type": "markdown",
      "metadata": {
        "id": "bw2n4YVDL36s"
      },
      "source": [
        "**FOR / IN / RANGE**"
      ]
    },
    {
      "cell_type": "markdown",
      "metadata": {
        "id": "jiYfAmdzPQIP"
      },
      "source": [
        "poder de executar várias vezes a mesma base de códigos baseado numa coleção"
      ]
    },
    {
      "cell_type": "code",
      "metadata": {
        "colab": {
          "base_uri": "https://localhost:8080/"
        },
        "id": "q0_6zOZNLxOl",
        "outputId": "780c58b3-a828-4673-ee5d-79c9339eb6fb"
      },
      "source": [
        "for v in range(6):\n",
        "  print(v)"
      ],
      "execution_count": null,
      "outputs": [
        {
          "output_type": "stream",
          "name": "stdout",
          "text": [
            "0\n",
            "1\n",
            "2\n",
            "3\n",
            "4\n",
            "5\n"
          ]
        }
      ]
    },
    {
      "cell_type": "markdown",
      "metadata": {
        "id": "d16Ixav2QWj-"
      },
      "source": [
        "v=0 s=0+0=0, \n",
        "v=1 s=0+1=1, \n",
        "v=2 s=1+2=3, \n",
        "v=3 s=3+3=6."
      ]
    },
    {
      "cell_type": "code",
      "metadata": {
        "colab": {
          "base_uri": "https://localhost:8080/"
        },
        "id": "5KSxwPKEMIjp",
        "outputId": "59d3675a-d3c6-49d4-eeb5-9501fe3ce128"
      },
      "source": [
        "soma = 0\n",
        "for v in range(0, 10):\n",
        "  soma = soma + v\n",
        "  print(soma)"
      ],
      "execution_count": null,
      "outputs": [
        {
          "output_type": "stream",
          "name": "stdout",
          "text": [
            "0\n",
            "1\n",
            "3\n",
            "6\n",
            "10\n",
            "15\n",
            "21\n",
            "28\n",
            "36\n",
            "45\n"
          ]
        }
      ]
    },
    {
      "cell_type": "markdown",
      "metadata": {
        "id": "uLNaSIEiQOk7"
      },
      "source": [
        "ir do 2 até o 2 com passo de 2"
      ]
    },
    {
      "cell_type": "code",
      "metadata": {
        "colab": {
          "base_uri": "https://localhost:8080/"
        },
        "id": "wt-U11xvO_-8",
        "outputId": "09eb4384-2c4d-45b9-aaa4-6f41fa2eef07"
      },
      "source": [
        "for multiplo_dois in range(2, 10, 2):\n",
        "  print(multiplo_dois)"
      ],
      "execution_count": null,
      "outputs": [
        {
          "output_type": "stream",
          "name": "stdout",
          "text": [
            "2\n",
            "4\n",
            "6\n",
            "8\n"
          ]
        }
      ]
    },
    {
      "cell_type": "markdown",
      "metadata": {
        "id": "SnM3VEb0RXzz"
      },
      "source": [
        "FOR / IN / LIST"
      ]
    },
    {
      "cell_type": "code",
      "metadata": {
        "colab": {
          "base_uri": "https://localhost:8080/"
        },
        "id": "cfFz1LGBRdC_",
        "outputId": "7468c4eb-7cef-4641-83c3-55bd459a4d9b"
      },
      "source": [
        "frutas = [{\"a\":2, 'A':15}, {\"a\":2, 'A':4}, {\"a\":1, 'A':3}, {\"a\":2, 'A':17}]\n",
        "for fruta in frutas:\n",
        "  print(fruta)\n"
      ],
      "execution_count": null,
      "outputs": [
        {
          "output_type": "stream",
          "name": "stdout",
          "text": [
            "{'a': 2, 'A': 15}\n",
            "{'a': 2, 'A': 4}\n",
            "{'a': 1, 'A': 3}\n",
            "{'a': 2, 'A': 17}\n"
          ]
        }
      ]
    },
    {
      "cell_type": "code",
      "metadata": {
        "colab": {
          "base_uri": "https://localhost:8080/"
        },
        "id": "36KPh4BlTMPo",
        "outputId": "9ae9c325-d239-4acb-94ac-a8bab6d2396a"
      },
      "source": [
        "frase = \"o Coxa vai ser o campeão.\"\n",
        "for caracter in frase:\n",
        "  if (caracter == 'o') | (caracter == 'x'):\n",
        "    print(f'A letra \"{caracter}\" está presente na frase.')"
      ],
      "execution_count": null,
      "outputs": [
        {
          "output_type": "stream",
          "name": "stdout",
          "text": [
            "A letra \"o\" está presente na frase.\n",
            "A letra \"o\" está presente na frase.\n",
            "A letra \"x\" está presente na frase.\n",
            "A letra \"o\" está presente na frase.\n",
            "A letra \"o\" está presente na frase.\n"
          ]
        }
      ]
    },
    {
      "cell_type": "code",
      "metadata": {
        "colab": {
          "base_uri": "https://localhost:8080/"
        },
        "id": "TvnPuJlMhgXl",
        "outputId": "8f359553-a8f8-48fd-bf86-7792d3cd2c7c"
      },
      "source": [
        "c = {'a':567, 'b':783 , 'c':324 , 'd':786}\n",
        "for chave, valor in c.items():\n",
        "  print(f'para documento {chave}, o valor do escore é {valor}.')\n",
        "  print('\\n')\n"
      ],
      "execution_count": null,
      "outputs": [
        {
          "output_type": "stream",
          "name": "stdout",
          "text": [
            "para documento a, o valor do escore é 567.\n",
            "\n",
            "\n",
            "para documento b, o valor do escore é 783.\n",
            "\n",
            "\n",
            "para documento c, o valor do escore é 324.\n",
            "\n",
            "\n",
            "para documento d, o valor do escore é 786.\n",
            "\n",
            "\n"
          ]
        }
      ]
    },
    {
      "cell_type": "code",
      "metadata": {
        "colab": {
          "base_uri": "https://localhost:8080/"
        },
        "id": "6b18tsObjj8v",
        "outputId": "e50040c8-0e29-4927-922a-eb4e458f4382"
      },
      "source": [
        "for chave in c.keys():\n",
        "  print(chave)\n",
        "  print(c[chave])\n",
        "  print(f'para doc {chave}, o valor do escore de c é {c[chave]}')"
      ],
      "execution_count": null,
      "outputs": [
        {
          "output_type": "stream",
          "name": "stdout",
          "text": [
            "a\n",
            "567\n",
            "para doc a, o valor do escore de c é 567\n",
            "b\n",
            "783\n",
            "para doc b, o valor do escore de c é 783\n",
            "c\n",
            "324\n",
            "para doc c, o valor do escore de c é 324\n",
            "d\n",
            "786\n",
            "para doc d, o valor do escore de c é 786\n"
          ]
        }
      ]
    },
    {
      "cell_type": "code",
      "metadata": {
        "colab": {
          "base_uri": "https://localhost:8080/"
        },
        "id": "QHALNC_QkRMk",
        "outputId": "e9ccdba6-cd94-4c14-a2e4-72c17d56ef1c"
      },
      "source": [
        "for valor in c.values():\n",
        "  print(valor)\n",
        "  print(f'valor escore é {valor}, mas não tem mais chave :(.')"
      ],
      "execution_count": null,
      "outputs": [
        {
          "output_type": "stream",
          "name": "stdout",
          "text": [
            "567\n",
            "valor escore é 567, mas não tem mais chave :(.\n",
            "783\n",
            "valor escore é 783, mas não tem mais chave :(.\n",
            "324\n",
            "valor escore é 324, mas não tem mais chave :(.\n",
            "786\n",
            "valor escore é 786, mas não tem mais chave :(.\n"
          ]
        }
      ]
    },
    {
      "cell_type": "markdown",
      "metadata": {
        "id": "PAjYx1d-k-tG"
      },
      "source": [
        "BREAK / CONTINUE"
      ]
    },
    {
      "cell_type": "code",
      "metadata": {
        "colab": {
          "base_uri": "https://localhost:8080/"
        },
        "id": "8yhX4BZTk9nK",
        "outputId": "4bc1b304-77c5-4df8-bf65-a466fab6c2b3"
      },
      "source": [
        "for i in range(0, 1010):\n",
        "  print(i)\n",
        "  if i == 5:\n",
        "    break"
      ],
      "execution_count": null,
      "outputs": [
        {
          "output_type": "stream",
          "name": "stdout",
          "text": [
            "0\n",
            "1\n",
            "2\n",
            "3\n",
            "4\n",
            "5\n"
          ]
        }
      ]
    },
    {
      "cell_type": "code",
      "metadata": {
        "colab": {
          "base_uri": "https://localhost:8080/"
        },
        "id": "XhLo4JSAumjE",
        "outputId": "da8b2b17-afd4-4801-9067-c6ef704d6c1b"
      },
      "source": [
        "numero = 11\n",
        "if numero % 2 == 0:\n",
        "  print(f'O numero {numero} par')\n",
        "else:\n",
        "  print(f'O numero {numero} impar')"
      ],
      "execution_count": null,
      "outputs": [
        {
          "output_type": "stream",
          "name": "stdout",
          "text": [
            "O numero 11 impar\n"
          ]
        }
      ]
    },
    {
      "cell_type": "markdown",
      "metadata": {
        "id": "PTOmDg5G1cFb"
      },
      "source": [
        "para quando encontra o primeiro numero par"
      ]
    },
    {
      "cell_type": "code",
      "metadata": {
        "colab": {
          "base_uri": "https://localhost:8080/"
        },
        "id": "ZejAgYaG0CXO",
        "outputId": "dbd79d8c-f88a-4ff3-d043-72ad7b527b24"
      },
      "source": [
        "numeros = [361, 553, 194, 13, 510, 33, 135]\n",
        "for numero in numeros:\n",
        "  if numero % 2 == 0:\n",
        "    print(f'o numero {numero} par')\n",
        "    break\n",
        "  else:\n",
        "    print(f'o numero {numero} impar')\n"
      ],
      "execution_count": null,
      "outputs": [
        {
          "output_type": "stream",
          "name": "stdout",
          "text": [
            "o numero 361 impar\n",
            "o numero 553 impar\n",
            "o numero 194 par\n"
          ]
        }
      ]
    },
    {
      "cell_type": "code",
      "metadata": {
        "colab": {
          "base_uri": "https://localhost:8080/"
        },
        "id": "a03DqoFRvTbD",
        "outputId": "7be5affc-dd66-4f2b-e029-7e7d1115cbe4"
      },
      "source": [
        "numeros = [361, 553, 194, 13, 510, 33, 135]\n",
        "for numero in numeros:\n",
        "  if numero %2 == 0:\n",
        "    print(f'O numero {numero} par')\n",
        "    break\n",
        "  else:\n",
        "    continue\n",
        "    print(f'O numero{numero} impar')"
      ],
      "execution_count": null,
      "outputs": [
        {
          "output_type": "stream",
          "name": "stdout",
          "text": [
            "O numero 194 par\n"
          ]
        }
      ]
    }
  ]
}