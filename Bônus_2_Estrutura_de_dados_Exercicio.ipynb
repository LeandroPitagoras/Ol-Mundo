{
  "nbformat": 4,
  "nbformat_minor": 0,
  "metadata": {
    "colab": {
      "name": "Bônus 2 - Estrutura de dados Exercicio",
      "provenance": [],
      "collapsed_sections": [],
      "toc_visible": true
    },
    "kernelspec": {
      "name": "python3",
      "display_name": "Python 3"
    },
    "language_info": {
      "name": "python"
    }
  },
  "cells": [
    {
      "cell_type": "markdown",
      "metadata": {
        "id": "BG083Iei8VkS"
      },
      "source": [
        "Exercicio 1"
      ]
    },
    {
      "cell_type": "code",
      "metadata": {
        "colab": {
          "base_uri": "https://localhost:8080/"
        },
        "id": "OTRXdmJA8O5d",
        "outputId": "fcf06979-2855-48f3-afee-ea6f3f9500d6"
      },
      "source": [
        "filmes = ['filme1', 'filme2']\n",
        "print(filmes)\n",
        "print(type(filmes))\n"
      ],
      "execution_count": 22,
      "outputs": [
        {
          "output_type": "stream",
          "name": "stdout",
          "text": [
            "['filme1', 'filme2']\n",
            "<class 'list'>\n"
          ]
        }
      ]
    },
    {
      "cell_type": "code",
      "metadata": {
        "colab": {
          "base_uri": "https://localhost:8080/"
        },
        "id": "Jyx-i1x7_sDs",
        "outputId": "c3fa1c6b-c2f6-4d9e-da1e-c693096551bc"
      },
      "source": [
        "filmes.insert(0, \"filme88\")\n",
        "print(filmes)"
      ],
      "execution_count": 23,
      "outputs": [
        {
          "output_type": "stream",
          "name": "stdout",
          "text": [
            "['filme88', 'filme1', 'filme2']\n"
          ]
        }
      ]
    },
    {
      "cell_type": "code",
      "metadata": {
        "colab": {
          "base_uri": "https://localhost:8080/"
        },
        "id": "75BaaAkLAI4k",
        "outputId": "97d38aac-e065-4758-d6f9-917f1237149c"
      },
      "source": [
        "filmes.pop(0)\n",
        "print(filmes)"
      ],
      "execution_count": 24,
      "outputs": [
        {
          "output_type": "stream",
          "name": "stdout",
          "text": [
            "['filme1', 'filme2']\n"
          ]
        }
      ]
    },
    {
      "cell_type": "code",
      "metadata": {
        "colab": {
          "base_uri": "https://localhost:8080/"
        },
        "id": "P4RZuUjAA48u",
        "outputId": "18a9ddd0-4194-4b54-e57e-02903aee245e"
      },
      "source": [
        "filmes.append(\"Rambo 1\")\n",
        "print(filmes)"
      ],
      "execution_count": 26,
      "outputs": [
        {
          "output_type": "stream",
          "name": "stdout",
          "text": [
            "['filme1', 'filme2', 'Rambo 1', 'Rambo 1']\n"
          ]
        }
      ]
    },
    {
      "cell_type": "code",
      "metadata": {
        "colab": {
          "base_uri": "https://localhost:8080/"
        },
        "id": "KJacROUUBhgc",
        "outputId": "49f262ba-b777-4b27-e0ab-12e1b631b20d"
      },
      "source": [
        "filmes.remove(\"Rambo 1\")\n",
        "print(filmes)"
      ],
      "execution_count": 28,
      "outputs": [
        {
          "output_type": "stream",
          "name": "stdout",
          "text": [
            "['filme1', 'filme2']\n"
          ]
        }
      ]
    },
    {
      "cell_type": "markdown",
      "metadata": {
        "id": "jJFztXgWCdY7"
      },
      "source": [
        "Exercicio 2"
      ]
    },
    {
      "cell_type": "code",
      "metadata": {
        "colab": {
          "base_uri": "https://localhost:8080/"
        },
        "id": "7bJ6a3zACg46",
        "outputId": "e9b49638-f792-48aa-c78b-94d851d539ef"
      },
      "source": [
        "filmes = ['filme1', 'filme2' , 'filme3' , \"filme4\"]\n",
        "filmes.insert(1 ,\"filme2\")\n",
        "filmes.insert(1 ,\"filme3\")\n",
        "filmes.insert(1 ,\"filme4\")\n",
        "print(filmes)\n",
        "print(set(filmes))"
      ],
      "execution_count": 40,
      "outputs": [
        {
          "output_type": "stream",
          "name": "stdout",
          "text": [
            "['filme1', 'filme4', 'filme3', 'filme2', 'filme2', 'filme3', 'filme4']\n",
            "{'filme3', 'filme1', 'filme4', 'filme2'}\n"
          ]
        }
      ]
    },
    {
      "cell_type": "markdown",
      "metadata": {
        "id": "Jq9Z04EUFdNv"
      },
      "source": [
        "Exercicio 3 "
      ]
    },
    {
      "cell_type": "code",
      "metadata": {
        "colab": {
          "base_uri": "https://localhost:8080/"
        },
        "id": "7Lrs7xuYFgBj",
        "outputId": "ae06180b-7c0e-4c0b-b541-0d4ad4c5e9d3"
      },
      "source": [
        "filmes = {\n",
        "    'filme1':1996, \n",
        "    'filme2':2003 , \n",
        "    'filme3':1976 , \n",
        "    'filme4':2012\n",
        "    }\n",
        "print(filmes)\n",
        "chaves=list(filmes.keys())\n",
        "print(chaves)\n",
        "valores=list(filmes.values())\n",
        "print(valores)"
      ],
      "execution_count": 47,
      "outputs": [
        {
          "output_type": "stream",
          "name": "stdout",
          "text": [
            "{'filme1': 1996, 'filme2': 2003, 'filme3': 1976, 'filme4': 2012}\n",
            "['filme1', 'filme2', 'filme3', 'filme4']\n",
            "[1996, 2003, 1976, 2012]\n"
          ]
        }
      ]
    },
    {
      "cell_type": "code",
      "metadata": {
        "id": "yy6Rlx8QGV3q"
      },
      "source": [
        ""
      ],
      "execution_count": null,
      "outputs": []
    }
  ]
}