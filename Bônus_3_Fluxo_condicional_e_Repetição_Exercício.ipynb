{
  "nbformat": 4,
  "nbformat_minor": 0,
  "metadata": {
    "colab": {
      "name": "Bônus 3 - Fluxo condicional e Repetição Exercício",
      "provenance": [],
      "collapsed_sections": []
    },
    "kernelspec": {
      "name": "python3",
      "display_name": "Python 3"
    },
    "language_info": {
      "name": "python"
    }
  },
  "cells": [
    {
      "cell_type": "markdown",
      "metadata": {
        "id": "rvNDvWjLLVjB"
      },
      "source": [
        "Exercício\n"
      ]
    },
    {
      "cell_type": "code",
      "metadata": {
        "id": "gi-yyAFrJVCi"
      },
      "source": [
        "propaganda = [{\"tempo\":68.95, \"i\" : 35, \"renda\" : 61833.90, \"n\" : 256.09, \"cidade\" : \"Curitiba\", \"p\" : \"BR\", \"clicou\": 0}, \n",
        "              {\"tempo\" : 80.23, \"i\" : 31, \"renda\" : 68441.85, \"n\" : 193.77, \"cidade\" : \"Cordoba\", \"p\" : \"AR\", \"clicou\" : 0},  \n",
        "              {\"tempo\" : 69.47, \"i\" : 26, \"renda\" : 59785.94, \"n\" : 236.50, \"cidade\" : \"Medelin\", \"p\" : \"CO\", \"clicou\" : 0},\n",
        "              {\"tempo\" : 68.37, \"i\" : 35, \"renda\" : 73889.99, \"n\" : 225.58, \"cidade\" : \"Oyak\", \"p\" : \"TU\", \"clicou\" : 0},\n",
        "              {\"tempo\" : 88.91, \"i\" : 33, \"renda\" : 53852.85, \"n\" : 208.36, \"cidade\" : \"Durban\", \"p\" : \"AS\", \"clicou\" : 1},\n",
        "              {\"tempo\" : 0, \"i\" : 48, \"renda\" : 24593.33, \"n\" : 131.76, \"cidade\" : \"LosAngeles\", \"p\" : \"US\", 'clicou': 0},\n",
        "              {\"tempo\" : 69.88, \"i\" : 20, \"renda\" : 55642.32, \"n\" : 183.82, \"cidade\" : \"Dublin\", \"p\" : \"IR\", \"clicou\" : 0}\n",
        "              ]"
      ],
      "execution_count": 43,
      "outputs": []
    },
    {
      "cell_type": "code",
      "metadata": {
        "colab": {
          "base_uri": "https://localhost:8080/"
        },
        "id": "2JSM440AT39c",
        "outputId": "c9e317ad-b9aa-4236-acd4-a18d648baaa4"
      },
      "source": [
        "for dado in propaganda:\n",
        "  print(dado)"
      ],
      "execution_count": 44,
      "outputs": [
        {
          "output_type": "stream",
          "name": "stdout",
          "text": [
            "{'tempo': 68.95, 'i': 35, 'renda': 61833.9, 'n': 256.09, 'cidade': 'Curitiba', 'p': 'BR', 'clicou': 0}\n",
            "{'tempo': 80.23, 'i': 31, 'renda': 68441.85, 'n': 193.77, 'cidade': 'Cordoba', 'p': 'AR', 'clicou': 0}\n",
            "{'tempo': 69.47, 'i': 26, 'renda': 59785.94, 'n': 236.5, 'cidade': 'Medelin', 'p': 'CO', 'clicou': 0}\n",
            "{'tempo': 68.37, 'i': 35, 'renda': 73889.99, 'n': 225.58, 'cidade': 'Oyak', 'p': 'TU', 'clicou': 0}\n",
            "{'tempo': 88.91, 'i': 33, 'renda': 53852.85, 'n': 208.36, 'cidade': 'Durban', 'p': 'AS', 'clicou': 1}\n",
            "{'tempo': 0, 'i': 48, 'renda': 24593.33, 'n': 131.76, 'cidade': 'LosAngeles', 'p': 'US', 'clicou': 0}\n",
            "{'tempo': 69.88, 'i': 20, 'renda': 55642.32, 'n': 183.82, 'cidade': 'Dublin', 'p': 'IR', 'clicou': 0}\n"
          ]
        }
      ]
    },
    {
      "cell_type": "markdown",
      "metadata": {
        "id": "oSHoHrPaSTwR"
      },
      "source": [
        "Exercicio 1.1"
      ]
    },
    {
      "cell_type": "code",
      "metadata": {
        "colab": {
          "base_uri": "https://localhost:8080/"
        },
        "id": "-zgNfoxjSWH_",
        "outputId": "6ae2a864-1449-4ad0-ce66-7d746f30be9c"
      },
      "source": [
        "paises = []\n",
        "for dado in propaganda:\n",
        "  if (dado['i']>30):\n",
        "    paises.append(dado['p'])\n",
        "    print(paises)\n",
        "  \n",
        "   "
      ],
      "execution_count": 20,
      "outputs": [
        {
          "output_type": "stream",
          "name": "stdout",
          "text": [
            "['BR']\n",
            "['BR', 'AR']\n",
            "['BR', 'AR', 'TU']\n",
            "['BR', 'AR', 'TU', 'AS']\n",
            "['BR', 'AR', 'TU', 'AS', 'US']\n"
          ]
        }
      ]
    },
    {
      "cell_type": "markdown",
      "metadata": {
        "id": "axPpRgO9EroY"
      },
      "source": [
        "Exercicio 1.2"
      ]
    },
    {
      "cell_type": "code",
      "metadata": {
        "id": "f_jRCHIREn0I",
        "colab": {
          "base_uri": "https://localhost:8080/"
        },
        "outputId": "a21814f7-73cb-4dd4-d43c-32d39ee2a3aa"
      },
      "source": [
        "paises = []\n",
        "for dado in propaganda:\n",
        "  if (dado['clicou']==0):\n",
        "    paises.append(dado['renda'])\n",
        "    print(paises)"
      ],
      "execution_count": 23,
      "outputs": [
        {
          "output_type": "stream",
          "name": "stdout",
          "text": [
            "[61833.9]\n",
            "[61833.9, 68441.85]\n",
            "[61833.9, 68441.85, 59785.94]\n",
            "[61833.9, 68441.85, 59785.94, 73889.99]\n",
            "[61833.9, 68441.85, 59785.94, 73889.99, 24593.33]\n",
            "[61833.9, 68441.85, 59785.94, 73889.99, 24593.33, 55642.32]\n"
          ]
        }
      ]
    },
    {
      "cell_type": "markdown",
      "metadata": {
        "id": "173pbNXAKypK"
      },
      "source": [
        "Exercício 1.3"
      ]
    },
    {
      "cell_type": "code",
      "metadata": {
        "colab": {
          "base_uri": "https://localhost:8080/"
        },
        "id": "UcrDcTQKK_ES",
        "outputId": "5e18f8ea-a23d-40d2-943b-724c512eb4a9"
      },
      "source": [
        "cidades = []\n",
        "for dado in propaganda:\n",
        "  if (dado['tempo']<70.00):\n",
        "    cidades.append(dado['cidade'])\n",
        "    print(cidades)"
      ],
      "execution_count": 45,
      "outputs": [
        {
          "output_type": "stream",
          "name": "stdout",
          "text": [
            "['Curitiba']\n",
            "['Curitiba', 'Medelin']\n",
            "['Curitiba', 'Medelin', 'Oyak']\n",
            "['Curitiba', 'Medelin', 'Oyak', 'LosAngeles']\n",
            "['Curitiba', 'Medelin', 'Oyak', 'LosAngeles', 'Dublin']\n"
          ]
        }
      ]
    }
  ]
}