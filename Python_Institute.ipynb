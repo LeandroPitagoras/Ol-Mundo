{
  "nbformat": 4,
  "nbformat_minor": 0,
  "metadata": {
    "colab": {
      "name": "Python Institute",
      "provenance": [],
      "collapsed_sections": []
    },
    "kernelspec": {
      "display_name": "Python 3",
      "name": "python3"
    },
    "language_info": {
      "name": "python"
    }
  },
  "cells": [
    {
      "cell_type": "markdown",
      "metadata": {
        "id": "SY37Rk2U_2W9"
      },
      "source": [
        "**Função**: parte separada do código do computador capaz de:\n",
        "- causar um efeito (por exemplo, enviar texto, criar um ficheiro, desenhar uma imagem, reproduzir um som, etc.)\n",
        "- avaliar um valor (por exemplo, a raiz quadrada de um valor ou o comprimento de um dado texto) e devolvê-lo como o resultado da função; \n"
      ]
    },
    {
      "cell_type": "code",
      "metadata": {
        "colab": {
          "base_uri": "https://localhost:8080/"
        },
        "id": "GOzj1oEM1FP6",
        "outputId": "f2a741fd-a6c4-4a86-fa03-1b546a5c0a9f"
      },
      "source": [
        "print(\"The itsy bitsy spider\\nclimbed up the waterspout.\")"
      ],
      "execution_count": null,
      "outputs": [
        {
          "output_type": "stream",
          "name": "stdout",
          "text": [
            "The itsy bitsy spider\n",
            "climbed up the waterspout.\n"
          ]
        }
      ]
    },
    {
      "cell_type": "code",
      "metadata": {
        "colab": {
          "base_uri": "https://localhost:8080/"
        },
        "id": "uIVJ4KKy1UYK",
        "outputId": "9eb7a4ce-7c73-4476-d20f-3f5af679dc4e"
      },
      "source": [
        "print(\"My name is\", \"Python.\", end=\" \")\n",
        "print(\"Monty Python.\")"
      ],
      "execution_count": null,
      "outputs": [
        {
          "output_type": "stream",
          "name": "stdout",
          "text": [
            "My name is Python. Monty Python.\n"
          ]
        }
      ]
    },
    {
      "cell_type": "code",
      "metadata": {
        "colab": {
          "base_uri": "https://localhost:8080/"
        },
        "id": "MYP6nnIJ1Zs1",
        "outputId": "e0d44aab-ca77-4865-a244-52ea3f4135a8"
      },
      "source": [
        "print(\"My\", \"name\", \"is\", \"Monty\", \"Python.\", sep=\"-\")"
      ],
      "execution_count": null,
      "outputs": [
        {
          "output_type": "stream",
          "name": "stdout",
          "text": [
            "My-name-is-Monty-Python.\n"
          ]
        }
      ]
    },
    {
      "cell_type": "code",
      "metadata": {
        "colab": {
          "base_uri": "https://localhost:8080/"
        },
        "id": "cqWRfMNb1gBp",
        "outputId": "e259b0b0-2fff-4f7e-f6a1-54e7868aa5f9"
      },
      "source": [
        "print(2 ** 3)\n",
        "print(2 ** 3.)"
      ],
      "execution_count": null,
      "outputs": [
        {
          "name": "stdout",
          "output_type": "stream",
          "text": [
            "8\n",
            "8.0\n"
          ]
        }
      ]
    },
    {
      "cell_type": "markdown",
      "metadata": {
        "id": "ISIwWRj7XkCd"
      },
      "source": [
        "**Variáveis**: \n",
        "- conjunto nome valor"
      ]
    },
    {
      "cell_type": "code",
      "metadata": {
        "id": "VsyAKCru36Jp"
      },
      "source": [
        "hora = 8\n",
        "o_tempo_está_bom = \"N\"\n",
        "alegria = \"média\"\n"
      ],
      "execution_count": null,
      "outputs": []
    },
    {
      "cell_type": "markdown",
      "metadata": {
        "id": "m8HcZb8k1_E7"
      },
      "source": [
        "**Condições e execução condicional**\n",
        "- fazer algo se uma condição for cumprida, e não o fazer se não o for."
      ]
    },
    {
      "cell_type": "markdown",
      "metadata": {
        "id": "oEAR-fMF2NsR"
      },
      "source": [
        "if true_or_not:\n",
        "- do_this_if_true"
      ]
    },
    {
      "cell_type": "code",
      "metadata": {
        "colab": {
          "base_uri": "https://localhost:8080/"
        },
        "id": "67vRcYVR9urE",
        "outputId": "e4dfc9d3-f02d-456c-8eeb-b463e01ab16b"
      },
      "source": [
        "n = 100 > 20\n",
        "print(n)"
      ],
      "execution_count": null,
      "outputs": [
        {
          "output_type": "stream",
          "name": "stdout",
          "text": [
            "True\n"
          ]
        }
      ]
    },
    {
      "cell_type": "code",
      "metadata": {
        "colab": {
          "base_uri": "https://localhost:8080/"
        },
        "id": "sdOqcmkzz7eL",
        "outputId": "11ce5b87-d5b0-4aeb-c476-5d43c4a87cb6"
      },
      "source": [
        "x, y, z = 5, 10, 8\n",
        "\n",
        "print(x > z)\n",
        "print((y - 5) == x)"
      ],
      "execution_count": null,
      "outputs": [
        {
          "output_type": "stream",
          "name": "stdout",
          "text": [
            "False\n",
            "True\n"
          ]
        }
      ]
    },
    {
      "cell_type": "code",
      "metadata": {
        "colab": {
          "base_uri": "https://localhost:8080/"
        },
        "id": "BqLnREfv0orX",
        "outputId": "57b3721e-21d6-4ddb-cd38-2223e3aadd14"
      },
      "source": [
        "x, y, z = 5, 10, 8\n",
        "x, y, z = z, y, x\n",
        "\n",
        "print(x > z)\n",
        "print((y - 5) == x)"
      ],
      "execution_count": null,
      "outputs": [
        {
          "output_type": "stream",
          "name": "stdout",
          "text": [
            "True\n",
            "False\n"
          ]
        }
      ]
    },
    {
      "cell_type": "markdown",
      "metadata": {
        "id": "GxjQmUOJ2yWs"
      },
      "source": [
        "**Elementos Condicional**\n",
        "\n",
        "- a keyword if\n",
        "\n",
        "- uma pergunta ou uma resposta cujo valor será interpretado unicamente em termos de True (quando o seu valor é diferente de zero) e False (quando é igual a zero)\n",
        "\n",
        "- uma instrução"
      ]
    },
    {
      "cell_type": "code",
      "metadata": {
        "colab": {
          "base_uri": "https://localhost:8080/"
        },
        "id": "UsdguICSaVT3",
        "outputId": "b2f314e1-cec5-4d84-a442-80de036000c0"
      },
      "source": [
        "o_tempo_está_bom = \"N\"\n",
        "netflix_dispónivel = \"N\"\n",
        "tem_aula_disponível = \"S\"\n",
        "quer_estudar = \"N\"\n",
        "vó_Ana_em_casa = \"S\"\n",
        "\n",
        "s = \"Olá mundo!\"\n",
        "print(s)\n",
        "\n",
        "if o_tempo_está_bom == \"S\":\n",
        "    print(\"vá_caminhar\")\n",
        "elif o_tempo_está_bom != \"S\":\n",
        "    if netflix_dispónivel == \"S\":\n",
        "        print(\"veja_filme\")\n",
        "    elif tem_aula_disponível == \"S\":\n",
        "        if quer_estudar == \"S\":\n",
        "          print(\"vá_estudar\")\n",
        "        elif quer_estudar != \"S\":\n",
        "          print(\"vá_trabalhar\")\n",
        "    else:\n",
        "        print(\"vá_dormir\")\n",
        "\n",
        "if o_tempo_está_bom == \"S\":\n",
        "    print(\"ligar_vó_Ana\")\n",
        "elif vó_Ana_em_casa ==\"S\":\n",
        "    print(\"vamos_na_vó_Ana\")\n",
        "\n",
        "\n",
        "\n",
        "    \n"
      ],
      "execution_count": null,
      "outputs": [
        {
          "output_type": "stream",
          "name": "stdout",
          "text": [
            "Olá mundo!\n",
            "vá_trabalhar\n",
            "vamos_na_vó_Ana\n"
          ]
        }
      ]
    },
    {
      "cell_type": "code",
      "metadata": {
        "colab": {
          "base_uri": "https://localhost:8080/"
        },
        "id": "5RBZn6e2rBkm",
        "outputId": "2c8c1903-926e-4770-84c0-7cacbd46969e"
      },
      "source": [
        "o_tempo_está_bom = \"N\"\n",
        "netflix_dispónivel = \"N\"\n",
        "quer_estudar = \"N\"\n",
        "quer_ouvir_música = \"S\"\n",
        "vó_Ana_em_casa = \"S\"\n",
        "\n",
        "\n",
        "print(\"Olá mundo!\")\n",
        "\n",
        "if o_tempo_está_bom == \"S\":\n",
        "    print(\"vá_caminhar\")\n",
        "elif netflix_dispónivel == \"S\":\n",
        "          print(\"veja_filme\")\n",
        "elif quer_estudar == \"S\":\n",
        "          print(\"vá_estudar\")    \n",
        "elif quer_ouvir_música == \"S\":\n",
        "          print(\"vá_ouvir\")\n",
        "\n",
        "  \n",
        "else:\n",
        "    print(\"vá_dormir\")"
      ],
      "execution_count": null,
      "outputs": [
        {
          "output_type": "stream",
          "name": "stdout",
          "text": [
            "Olá mundo!\n",
            "vá_ouvir\n"
          ]
        }
      ]
    },
    {
      "cell_type": "markdown",
      "metadata": {
        "id": "009aO5jYB7AT"
      },
      "source": [
        "**Loop While**:\n",
        "- executa uma declaração ou um conjunto de declarações, desde que uma condição booleana especificada seja verdadeira.\n",
        "- execução infinita por isso deve ser limitada a um end\n"
      ]
    },
    {
      "cell_type": "code",
      "metadata": {
        "colab": {
          "base_uri": "https://localhost:8080/"
        },
        "id": "fuEf7bpUPgXy",
        "outputId": "af9fd083-5f3f-49f2-c5cc-32443183cd82"
      },
      "source": [
        "quantidade_minimo_passo = 32\n",
        "while quantidade_minimo_passo > 4:\n",
        "    print(quantidade_minimo_passo)\n",
        "    quantidade_minimo_passo -= 8"
      ],
      "execution_count": null,
      "outputs": [
        {
          "output_type": "stream",
          "name": "stdout",
          "text": [
            "32\n",
            "24\n",
            "16\n",
            "8\n"
          ]
        }
      ]
    },
    {
      "cell_type": "code",
      "metadata": {
        "colab": {
          "base_uri": "https://localhost:8080/"
        },
        "id": "Wu_Hb-dB4nMk",
        "outputId": "a2e505d5-806c-4a61-ba2d-2c34689297ba"
      },
      "source": [
        "quantidade_máximo_regra_passo = 16\n",
        "while quantidade_máximo_regra_passo <= 32:\n",
        "  if quantidade_máximo_regra_passo % 1 == 0:\n",
        "    print(quantidade_máximo_regra_passo)\n",
        "  quantidade_máximo_regra_passo += 4"
      ],
      "execution_count": null,
      "outputs": [
        {
          "output_type": "stream",
          "name": "stdout",
          "text": [
            "16\n",
            "20\n",
            "24\n",
            "28\n",
            "32\n"
          ]
        }
      ]
    },
    {
      "cell_type": "code",
      "metadata": {
        "colab": {
          "base_uri": "https://localhost:8080/"
        },
        "id": "RLdBN2BzNTWq",
        "outputId": "cede5e65-569a-49e8-caa3-b3256f3cbf1e"
      },
      "source": [
        "for arroba in \"john.smith@pythoninstitute.org\":\n",
        "    if arroba == \"@\":\n",
        "        break\n",
        "    print(arroba, end=\"\")"
      ],
      "execution_count": null,
      "outputs": [
        {
          "name": "stdout",
          "output_type": "stream",
          "text": [
            "john.smith"
          ]
        }
      ]
    },
    {
      "cell_type": "markdown",
      "metadata": {
        "id": "PhSFTIBHCU6a"
      },
      "source": [
        "**Loop For**:\n",
        "- atua sobre uma sequência (por exemplo, uma lista, um dicionário, ou um conjunto.\n",
        "- atua sobre outros objetos que são iteráveis (por exemplo, strings)\n",
        "- atua sobre uma sequência de números usando a função range.\n"
      ]
    },
    {
      "cell_type": "code",
      "metadata": {
        "colab": {
          "base_uri": "https://localhost:8080/"
        },
        "id": "7OPxd_YkC1yX",
        "outputId": "2619858d-3dbe-4a10-e97c-a2a8d2450910"
      },
      "source": [
        "palavra = \"Python\"\n",
        "for letras in palavra:\n",
        "    print(letras, end=\"*\")\n",
        "\n"
      ],
      "execution_count": null,
      "outputs": [
        {
          "name": "stdout",
          "output_type": "stream",
          "text": [
            "P*y*t*h*o*n*"
          ]
        }
      ]
    },
    {
      "cell_type": "code",
      "metadata": {
        "colab": {
          "base_uri": "https://localhost:8080/"
        },
        "id": "uKP6mr9sC-QQ",
        "outputId": "4aab4b93-92c4-4c56-bf78-c532503c4509"
      },
      "source": [
        "for número in range(1, 10):\n",
        "    if número * 2 == 10:\n",
        "        print(número)"
      ],
      "execution_count": null,
      "outputs": [
        {
          "name": "stdout",
          "output_type": "stream",
          "text": [
            "5\n"
          ]
        }
      ]
    },
    {
      "cell_type": "code",
      "metadata": {
        "colab": {
          "base_uri": "https://localhost:8080/"
        },
        "id": "LAwVHozjM166",
        "outputId": "d76b011b-9a4d-4ef9-bd55-a1c045b40aff"
      },
      "source": [
        "for número_impar in range(0, 11):\n",
        "    if número_impar % 2 != 0:\n",
        "        print(número_impar)"
      ],
      "execution_count": null,
      "outputs": [
        {
          "output_type": "stream",
          "name": "stdout",
          "text": [
            "1\n",
            "3\n",
            "5\n",
            "7\n",
            "9\n"
          ]
        }
      ]
    },
    {
      "cell_type": "code",
      "metadata": {
        "colab": {
          "base_uri": "https://localhost:8080/"
        },
        "id": "axbTgzeKrlFx",
        "outputId": "155a6d4a-69f0-4402-f68e-89d35ffb43c2"
      },
      "source": [
        "for digito in \"0165031806510\":\n",
        "    if digito == \"0\":\n",
        "        print(\"zzz\", end=\"\")\n",
        "        continue\n",
        "    print(digito, end=\"\")\n"
      ],
      "execution_count": null,
      "outputs": [
        {
          "name": "stdout",
          "output_type": "stream",
          "text": [
            "zzz165zzz318zzz651zzz"
          ]
        }
      ]
    },
    {
      "cell_type": "markdown",
      "metadata": {
        "id": "0FNUqJNeDrvP"
      },
      "source": [
        "**Loops While e For**:\n",
        "- podem ter uma cláusula else em Python. A cláusula else executa-se após o loop terminar a sua execução, desde que não tenha sido terminado por break."
      ]
    },
    {
      "cell_type": "code",
      "metadata": {
        "colab": {
          "base_uri": "https://localhost:8080/"
        },
        "id": "NzOKFXCSEFPO",
        "outputId": "138044c6-0498-4eaf-d6f9-e44bfc9d165a"
      },
      "source": [
        "quantidade = 0\n",
        "while quantidade != 3:\n",
        "    print(quantidade)\n",
        "    quantidade += 1\n",
        "else:\n",
        "    print(quantidade,  \"final\")\n",
        "\n",
        "for quantidade in range(0, 3):\n",
        "    print(quantidade)\n",
        "else:\n",
        "    print(quantidade, \"final\")"
      ],
      "execution_count": null,
      "outputs": [
        {
          "output_type": "stream",
          "name": "stdout",
          "text": [
            "0\n",
            "1\n",
            "2\n",
            "3 final\n",
            "0\n",
            "1\n",
            "2\n",
            "2 final\n"
          ]
        }
      ]
    },
    {
      "cell_type": "markdown",
      "metadata": {
        "id": "NbC7ZZT3ItOj"
      },
      "source": [
        "**Range**: gera uma sequência de números. Aceita números inteiros e devolve objetos de range. \n",
        "- start é um parâmetro opcional que especifica o número inicial da sequência (0 por padrão)\n",
        "- stop é um parâmetro opcional que especifica o fim da sequência gerada (não está incluído),\n",
        "-step é um parâmetro opcional que especifica a diferença entre os números na sequência (1 por padrão.)"
      ]
    },
    {
      "cell_type": "code",
      "metadata": {
        "colab": {
          "base_uri": "https://localhost:8080/"
        },
        "id": "Yg5a2tI5I-Jm",
        "outputId": "6e1ff930-fb8e-467e-9588-e0cc3f614e20"
      },
      "source": [
        "for quantidade in range(3):\n",
        "    print(quantidade)"
      ],
      "execution_count": null,
      "outputs": [
        {
          "output_type": "stream",
          "name": "stdout",
          "text": [
            "0\n",
            "1\n",
            "2\n"
          ]
        }
      ]
    },
    {
      "cell_type": "code",
      "metadata": {
        "colab": {
          "base_uri": "https://localhost:8080/"
        },
        "id": "g1c9HmFUKixx",
        "outputId": "147d5899-57c5-434b-9693-ffb319edecfc"
      },
      "source": [
        "for quantidade in range(3):\n",
        "    print(quantidade, end=\" \")"
      ],
      "execution_count": null,
      "outputs": [
        {
          "output_type": "stream",
          "name": "stdout",
          "text": [
            "0 1 2 "
          ]
        }
      ]
    },
    {
      "cell_type": "code",
      "metadata": {
        "colab": {
          "base_uri": "https://localhost:8080/"
        },
        "id": "ZwJa_UaIJHRe",
        "outputId": "5d23aca6-deea-44dc-bb86-00fcf2ba1149"
      },
      "source": [
        "for quantidade in range(6, 1, -2): #(max, min, passo)\n",
        "    print(quantidade, end=\" \")"
      ],
      "execution_count": null,
      "outputs": [
        {
          "output_type": "stream",
          "name": "stdout",
          "text": [
            "6 4 2 "
          ]
        }
      ]
    },
    {
      "cell_type": "code",
      "metadata": {
        "colab": {
          "base_uri": "https://localhost:8080/"
        },
        "id": "-jmVLKtar_1c",
        "outputId": "bebfd17c-5c1c-4f9c-b29b-283ec5634a84"
      },
      "source": [
        "montante = range(4)\n",
        "for quantidade in montante:\n",
        "    print(quantidade - 30)\n",
        "else:\n",
        "    print(quantidade)"
      ],
      "execution_count": null,
      "outputs": [
        {
          "output_type": "stream",
          "name": "stdout",
          "text": [
            "-30\n",
            "-29\n",
            "-28\n",
            "-27\n",
            "3\n"
          ]
        }
      ]
    },
    {
      "cell_type": "code",
      "metadata": {
        "colab": {
          "base_uri": "https://localhost:8080/"
        },
        "id": "Na-OVuW5sKVk",
        "outputId": "32d70a0a-159c-454f-ec66-e3700022333f"
      },
      "source": [
        "for i in range(0, 6, 1): #(min, max, passo)\n",
        "    print(i)"
      ],
      "execution_count": null,
      "outputs": [
        {
          "output_type": "stream",
          "name": "stdout",
          "text": [
            "0\n",
            "1\n",
            "2\n",
            "3\n",
            "4\n",
            "5\n"
          ]
        }
      ]
    },
    {
      "cell_type": "markdown",
      "metadata": {
        "id": "kKTd04jiT38w"
      },
      "source": [
        "**Lógica de computador**: base na tabela da verdade\n",
        "- AND\n",
        "- OR\n",
        "- NOT:  transforma a verdade em falsidade e a falsidade em verdade"
      ]
    },
    {
      "cell_type": "markdown",
      "metadata": {
        "id": "72rGc_XEXKYx"
      },
      "source": [
        "**Operadores bitwise**\n",
        "- & conjunção\n",
        "- | disjunção\n",
        "- ~ negação\n",
        "- ^ exclusive ou (xor)."
      ]
    },
    {
      "cell_type": "code",
      "metadata": {
        "colab": {
          "base_uri": "https://localhost:8080/"
        },
        "id": "GahstzBbWBZY",
        "outputId": "91d8a335-421a-4fd6-fbb3-6911636bd88e"
      },
      "source": [
        "x = 1\n",
        "y = 0\n",
        "z = ((x == y) and (x == y)) or not(x == y)\n",
        "print(not(z))"
      ],
      "execution_count": null,
      "outputs": [
        {
          "output_type": "stream",
          "name": "stdout",
          "text": [
            "False\n"
          ]
        }
      ]
    },
    {
      "cell_type": "code",
      "metadata": {
        "colab": {
          "base_uri": "https://localhost:8080/"
        },
        "id": "PI--L9MBYFEs",
        "outputId": "f1197859-130a-4ba1-946d-f412ff286da5"
      },
      "source": [
        "uva = 4\n",
        "maçã = 1\n",
        "fruteira_a = uva & maçã\n",
        "fruteira_b = uva | maçã\n",
        "fruteira_c = ~uva\n",
        "fruteira_d = uva ^ 5\n",
        "fruteira_e = uva >> 2\n",
        "fruteira_f = uva << 2\n",
        "\n",
        "print(fruteira_a, fruteira_b, fruteira_c, fruteira_d, fruteira_e, fruteira_f)"
      ],
      "execution_count": null,
      "outputs": [
        {
          "output_type": "stream",
          "name": "stdout",
          "text": [
            "0 5 -5 1 1 16\n"
          ]
        }
      ]
    },
    {
      "cell_type": "markdown",
      "metadata": {
        "id": "sYJq-8o3a4Ex"
      },
      "source": [
        "**Listas [ ]**\n",
        " - coleção ordenada e mutável "
      ]
    },
    {
      "cell_type": "code",
      "metadata": {
        "colab": {
          "base_uri": "https://localhost:8080/"
        },
        "id": "09sHGuaobOZy",
        "outputId": "d7de06c0-befe-40df-e62c-27b873bd6a3e"
      },
      "source": [
        "numbers = [10, 5, 7, 2, 1]\n",
        "print(\"Lista Original:\", numbers)  # Printing original list content.\n",
        "\n",
        "numbers[0] = 111\n",
        "print(\"\\nLista Original Acrescentada:\", numbers)  # Printing previous list content.\n",
        "\n",
        "numbers[1] = numbers[4]  # Copying value of the fifth element to the second.\n",
        "print(\"Lista Original Acrescentada Alterada:\", numbers)  # Printing previous list content.\n",
        "\n",
        "print(\"\\nTamanho da Lista Original:\", len(numbers))  # Printing previous list length.\n",
        "\n",
        "###\n",
        "\n",
        "del numbers[1]  # Removing the second element from the list.\n",
        "print(\"Tamanho da Lista Subtraida:\", len(numbers))  # Printing new list length.\n",
        "print(\"\\nNovo conteúdo da Lista:\", numbers)  # Printing current list content."
      ],
      "execution_count": null,
      "outputs": [
        {
          "output_type": "stream",
          "name": "stdout",
          "text": [
            "Lista Original: [10, 5, 7, 2, 1]\n",
            "\n",
            "Lista Original Acrescentada: [111, 5, 7, 2, 1]\n",
            "Lista Original Acrescentada Alterada: [111, 1, 7, 2, 1]\n",
            "\n",
            "Tamanho da Lista Original: 5\n",
            "Tamanho da Lista Subtraida: 4\n",
            "\n",
            "Novo conteúdo da Lista: [111, 7, 2, 1]\n"
          ]
        }
      ]
    },
    {
      "cell_type": "markdown",
      "metadata": {
        "id": "zM9RGMG7dmy0"
      },
      "source": [
        "**Append() e Insert()**\n",
        "- Append argumento colocado no final da lista\n",
        "- Insert argumento colocado em qualquer lugar da lista. Precisa definir posição"
      ]
    },
    {
      "cell_type": "code",
      "metadata": {
        "colab": {
          "base_uri": "https://localhost:8080/"
        },
        "id": "0q0oEeAteALx",
        "outputId": "3a3fc3c0-5e63-4819-d2f6-cd76aa0186d9"
      },
      "source": [
        "numbers = [111, 7, 2, 1]\n",
        "print(len(numbers))\n",
        "print(numbers)\n",
        "\n",
        "numbers.append(4)\n",
        "\n",
        "print(len(numbers))\n",
        "print(numbers)\n",
        "\n",
        "numbers.insert(0, 222)\n",
        "print(len(numbers))\n",
        "print(numbers)"
      ],
      "execution_count": null,
      "outputs": [
        {
          "output_type": "stream",
          "name": "stdout",
          "text": [
            "4\n",
            "[111, 7, 2, 1]\n",
            "5\n",
            "[111, 7, 2, 1, 4]\n",
            "6\n",
            "[222, 111, 7, 2, 1, 4]\n"
          ]
        }
      ]
    },
    {
      "cell_type": "code",
      "metadata": {
        "colab": {
          "base_uri": "https://localhost:8080/"
        },
        "id": "dCbbrOrcf8u_",
        "outputId": "3e7a4700-ed2a-40f8-c941-e45c214c9baa"
      },
      "source": [
        "lst = [1, 2, 3, 4, 5]\n",
        "lst.insert(1, 6)\n",
        "del lst[0]\n",
        "lst.append(1)\n",
        "\n",
        "print(lst)\n"
      ],
      "execution_count": null,
      "outputs": [
        {
          "output_type": "stream",
          "name": "stdout",
          "text": [
            "[6, 2, 3, 4, 5, 1]\n"
          ]
        }
      ]
    },
    {
      "cell_type": "code",
      "metadata": {
        "colab": {
          "base_uri": "https://localhost:8080/"
        },
        "id": "HeB3pakegXB2",
        "outputId": "71a90958-6d21-478e-f7f4-d9ce2ee76092"
      },
      "source": [
        "lista_1 = [1, 2, 3, 4, 5]\n",
        "lista_2 = []\n",
        "add = 0\n",
        "\n",
        "for numero in lista_1:\n",
        "    add += numero\n",
        "    lista_2.append(add)\n",
        "\n",
        "print(lista_2)"
      ],
      "execution_count": null,
      "outputs": [
        {
          "output_type": "stream",
          "name": "stdout",
          "text": [
            "[1, 3, 6, 10, 15]\n"
          ]
        }
      ]
    },
    {
      "cell_type": "code",
      "metadata": {
        "colab": {
          "base_uri": "https://localhost:8080/"
        },
        "id": "QC2CbLyAhgXZ",
        "outputId": "af38316a-2e26-45d7-f94f-d8215e675894"
      },
      "source": [
        "lst = [1, [2, [3, 0], 3], 4]\n",
        "print(lst[1])\n",
        "print(len(lst))"
      ],
      "execution_count": null,
      "outputs": [
        {
          "output_type": "stream",
          "name": "stdout",
          "text": [
            "[2, [3, 0], 3]\n",
            "3\n"
          ]
        }
      ]
    },
    {
      "cell_type": "markdown",
      "metadata": {
        "id": "KeF5eF0OiO0t"
      },
      "source": [
        "**SORT**: \n",
        "- ordena lista"
      ]
    },
    {
      "cell_type": "code",
      "metadata": {
        "colab": {
          "base_uri": "https://localhost:8080/"
        },
        "id": "2zAGJ_tIisA8",
        "outputId": "305784fe-9c58-4c08-ee6e-37cc77fee018"
      },
      "source": [
        "lst = [\"D\", \"F\", \"A\", \"Z\"]\n",
        "lst.sort()\n",
        "\n",
        "print(lst)"
      ],
      "execution_count": null,
      "outputs": [
        {
          "output_type": "stream",
          "name": "stdout",
          "text": [
            "['A', 'D', 'F', 'Z']\n"
          ]
        }
      ]
    },
    {
      "cell_type": "code",
      "metadata": {
        "colab": {
          "base_uri": "https://localhost:8080/"
        },
        "id": "qj5LTKqyiv5b",
        "outputId": "bf17a407-273a-48c7-e2f2-33a7f9c2401a"
      },
      "source": [
        "a = 3\n",
        "b = 1\n",
        "c = 2\n",
        "\n",
        "lst = [a, c, b]\n",
        "lst.sort()\n",
        "\n",
        "print(lst)"
      ],
      "execution_count": null,
      "outputs": [
        {
          "output_type": "stream",
          "name": "stdout",
          "text": [
            "[1, 2, 3]\n"
          ]
        }
      ]
    },
    {
      "cell_type": "markdown",
      "metadata": {
        "id": "U7afxUewj5Sg"
      },
      "source": [
        "**Slice** \n",
        "- elemento da sintaxe Python que lhe permite fazer uma cópia completamente nova de uma lista ou partes de uma lista."
      ]
    },
    {
      "cell_type": "code",
      "metadata": {
        "colab": {
          "base_uri": "https://localhost:8080/"
        },
        "id": "HtywScWskBGT",
        "outputId": "ce83457f-6073-466a-d593-391d65d69360"
      },
      "source": [
        "list_1 = [1]\n",
        "list_2 = list_1[:]\n",
        "list_1[0] = 2\n",
        "print(list_2)\n",
        "\n",
        "my_list = [10, 8, 6, 4, 2]\n",
        "new_list = my_list[1:3]\n",
        "print(new_list)"
      ],
      "execution_count": null,
      "outputs": [
        {
          "output_type": "stream",
          "name": "stdout",
          "text": [
            "[1]\n",
            "[8, 6]\n"
          ]
        }
      ]
    },
    {
      "cell_type": "code",
      "metadata": {
        "colab": {
          "base_uri": "https://localhost:8080/"
        },
        "id": "sonavu9jkgE0",
        "outputId": "bab978f7-9bf3-4c65-9709-0a98e02d2560"
      },
      "source": [
        "my_list = [0, 3, 12, 8, 2]\n",
        "\n",
        "print(5 in my_list)\n",
        "print(5 not in my_list)\n",
        "print(12 in my_list)"
      ],
      "execution_count": null,
      "outputs": [
        {
          "output_type": "stream",
          "name": "stdout",
          "text": [
            "False\n",
            "True\n",
            "True\n"
          ]
        }
      ]
    },
    {
      "cell_type": "code",
      "metadata": {
        "colab": {
          "base_uri": "https://localhost:8080/"
        },
        "id": "XhW4NKMymTfY",
        "outputId": "595c29b9-9c72-4d6e-c17c-678b5e5a934f"
      },
      "source": [
        "list_1 = [\"A\", \"B\", \"C\"]\n",
        "list_2 = list_1\n",
        "list_3 = list_2\n",
        "\n",
        "del list_1[0]\n",
        "del list_2[0]\n",
        "\n",
        "print(list_3)"
      ],
      "execution_count": null,
      "outputs": [
        {
          "output_type": "stream",
          "name": "stdout",
          "text": [
            "['C']\n"
          ]
        }
      ]
    },
    {
      "cell_type": "code",
      "metadata": {
        "colab": {
          "base_uri": "https://localhost:8080/"
        },
        "id": "Vhv5VIdnmfmL",
        "outputId": "a29d85ed-7893-4654-8252-e93a7d68dc3a"
      },
      "source": [
        "list_1 = [\"A\", \"B\", \"C\"]\n",
        "list_2 = list_1\n",
        "list_3 = list_2\n",
        "\n",
        "del list_1[0]\n",
        "del list_2\n",
        "\n",
        "print(list_3)\n"
      ],
      "execution_count": null,
      "outputs": [
        {
          "output_type": "stream",
          "name": "stdout",
          "text": [
            "['B', 'C']\n"
          ]
        }
      ]
    },
    {
      "cell_type": "code",
      "metadata": {
        "colab": {
          "base_uri": "https://localhost:8080/"
        },
        "id": "k6CGV3nXmtY2",
        "outputId": "c1f28c69-82f2-496e-b851-eb57cc308f2f"
      },
      "source": [
        "list_1 = [\"A\", \"B\", \"C\"]\n",
        "list_2 = list_1\n",
        "list_3 = list_2\n",
        "\n",
        "del list_1[0]\n",
        "del list_2[:]\n",
        "\n",
        "print(list_3)"
      ],
      "execution_count": null,
      "outputs": [
        {
          "output_type": "stream",
          "name": "stdout",
          "text": [
            "[]\n"
          ]
        }
      ]
    },
    {
      "cell_type": "code",
      "metadata": {
        "colab": {
          "base_uri": "https://localhost:8080/"
        },
        "id": "6QkGofp_m3BX",
        "outputId": "5de5ce7e-7c02-4a2c-f763-1d09d94d11e8"
      },
      "source": [
        "list_1 = [\"A\", \"B\", \"C\"]\n",
        "list_2 = list_1[:]\n",
        "list_3 = list_2[:]\n",
        "\n",
        "del list_1[0]\n",
        "del list_2[0]\n",
        "\n",
        "print(list_3)"
      ],
      "execution_count": null,
      "outputs": [
        {
          "output_type": "stream",
          "name": "stdout",
          "text": [
            "['A', 'B', 'C']\n"
          ]
        }
      ]
    },
    {
      "cell_type": "code",
      "metadata": {
        "colab": {
          "base_uri": "https://localhost:8080/"
        },
        "id": "8QZ9NROWnMxr",
        "outputId": "52df0f52-4ddc-43cb-ec4a-dd69917ef8dc"
      },
      "source": [
        "my_list = [1, 2, \"in\", True, \"ABC\"]\n",
        "\n",
        "print(1 in my_list)  # outputs True\n",
        "print(\"A\" not in my_list)  # outputs True\n",
        "print(3 not in my_list)  # outputs True\n",
        "print(False in my_list)  # outputs False"
      ],
      "execution_count": null,
      "outputs": [
        {
          "output_type": "stream",
          "name": "stdout",
          "text": [
            "True\n",
            "True\n",
            "True\n",
            "False\n"
          ]
        }
      ]
    },
    {
      "cell_type": "code",
      "metadata": {
        "colab": {
          "base_uri": "https://localhost:8080/"
        },
        "id": "HfP4Ag-OoFN1",
        "outputId": "8ea7454f-8513-46da-c467-45ee4d33f9db"
      },
      "source": [
        "my = [3, 1, -1]\n",
        "my[-1] = my[-2]\n",
        "print(my)"
      ],
      "execution_count": null,
      "outputs": [
        {
          "output_type": "stream",
          "name": "stdout",
          "text": [
            "[3, 1, 1]\n"
          ]
        }
      ]
    },
    {
      "cell_type": "markdown",
      "metadata": {
        "id": "kjUvBgAMFAG9"
      },
      "source": [
        "**Funções**"
      ]
    },
    {
      "cell_type": "code",
      "metadata": {
        "colab": {
          "base_uri": "https://localhost:8080/"
        },
        "id": "hdieZNqcFHh7",
        "outputId": "8f9f1b37-d9f6-40eb-9de8-13e3b6e1ac5d"
      },
      "source": [
        "# função de um parâmetro\n",
        "def hi(name):\n",
        "    print(\"Hi,\", name)\n",
        "\n",
        "hi(\"Le\")"
      ],
      "execution_count": null,
      "outputs": [
        {
          "output_type": "stream",
          "name": "stdout",
          "text": [
            "Hi, Le\n"
          ]
        }
      ]
    },
    {
      "cell_type": "code",
      "metadata": {
        "colab": {
          "base_uri": "https://localhost:8080/"
        },
        "id": "PVlScQxeFZBn",
        "outputId": "bee7a004-161f-448c-effa-40f56a406aec"
      },
      "source": [
        "# Um exemplo de uma função de dois parâmetros\n",
        "def hi_all(name_1, name_2):\n",
        "    print(\"Hi,\", name_2)\n",
        "    print(\"Hi,\", name_1)\n",
        "\n",
        "hi_all(\"Sebastian\", \"Konrad\")\n"
      ],
      "execution_count": null,
      "outputs": [
        {
          "output_type": "stream",
          "name": "stdout",
          "text": [
            "Hi, Konrad\n",
            "Hi, Sebastian\n"
          ]
        }
      ]
    },
    {
      "cell_type": "code",
      "metadata": {
        "colab": {
          "base_uri": "https://localhost:8080/"
        },
        "id": "IGNfj3MdHRBN",
        "outputId": "6c6f5a4c-3e62-4423-fee6-2f16cf1a09a5"
      },
      "source": [
        "def intro(a=\"James Bond\", b=\"Bond\"):\n",
        "    print(\"My name is\", b + \".\", a + \".\")\n",
        "\n",
        "intro()"
      ],
      "execution_count": null,
      "outputs": [
        {
          "output_type": "stream",
          "name": "stdout",
          "text": [
            "My name is Bond. James Bond.\n"
          ]
        }
      ]
    },
    {
      "cell_type": "code",
      "metadata": {
        "colab": {
          "base_uri": "https://localhost:8080/"
        },
        "id": "L-nMxQBIHY-u",
        "outputId": "7e28b459-42a9-4980-ab1e-50eebd681229"
      },
      "source": [
        "def intro(a=\"James Bond\", b=\"Bond\"):\n",
        "    print(\"My name is\", b + \".\", a + \".\")\n",
        "\n",
        "intro(b=\"Sean Connery\")"
      ],
      "execution_count": null,
      "outputs": [
        {
          "output_type": "stream",
          "name": "stdout",
          "text": [
            "My name is Sean Connery. James Bond.\n"
          ]
        }
      ]
    },
    {
      "cell_type": "code",
      "metadata": {
        "colab": {
          "base_uri": "https://localhost:8080/"
        },
        "id": "locVNpeAHgnp",
        "outputId": "b0166718-3bfe-41d6-fab0-51f5f4d4d38d"
      },
      "source": [
        "def intro(a, b=\"Bond\"):\n",
        "    print(\"My name is\", b + \".\", a + \".\")\n",
        "\n",
        "intro(\"Susan\")"
      ],
      "execution_count": null,
      "outputs": [
        {
          "output_type": "stream",
          "name": "stdout",
          "text": [
            "My name is Bond. Susan.\n"
          ]
        }
      ]
    },
    {
      "cell_type": "code",
      "metadata": {
        "colab": {
          "base_uri": "https://localhost:8080/"
        },
        "id": "qcJRPzMLJjaS",
        "outputId": "be99e12a-c787-44b3-ab55-8ca23559fae1"
      },
      "source": [
        "a = 1\n",
        "def fun():\n",
        "    a = 2\n",
        "    print(a)\n",
        "fun()\n",
        "print(a)"
      ],
      "execution_count": null,
      "outputs": [
        {
          "output_type": "stream",
          "name": "stdout",
          "text": [
            "2\n",
            "1\n"
          ]
        }
      ]
    },
    {
      "cell_type": "code",
      "metadata": {
        "colab": {
          "base_uri": "https://localhost:8080/"
        },
        "id": "yolIdAHuJ_BW",
        "outputId": "f430b7e4-c66f-41d6-bbe1-a11c33586880"
      },
      "source": [
        "a = 1\n",
        "def fun():\n",
        "    global a\n",
        "    a = 2\n",
        "    print(a)\n",
        "fun()\n",
        "a = 3\n",
        "print(a)"
      ],
      "execution_count": null,
      "outputs": [
        {
          "output_type": "stream",
          "name": "stdout",
          "text": [
            "2\n",
            "3\n"
          ]
        }
      ]
    },
    {
      "cell_type": "code",
      "metadata": {
        "colab": {
          "base_uri": "https://localhost:8080/"
        },
        "id": "gPJvzLWTKG6r",
        "outputId": "32d6472a-858e-4cfc-beab-60653f3f1209"
      },
      "source": [
        "a = 1\n",
        "def fun():\n",
        "    global a\n",
        "    a = 2\n",
        "    print(a)\n",
        "a = 3\n",
        "fun()\n",
        "print(a)"
      ],
      "execution_count": null,
      "outputs": [
        {
          "output_type": "stream",
          "name": "stdout",
          "text": [
            "2\n",
            "2\n"
          ]
        }
      ]
    },
    {
      "cell_type": "code",
      "metadata": {
        "colab": {
          "base_uri": "https://localhost:8080/"
        },
        "id": "2hhyxKZwKXtL",
        "outputId": "fa07b7a1-c5bb-42e2-d48a-a1e60672e633"
      },
      "source": [
        "def fun(a):\n",
        "    if a > 30:\n",
        "        return 3\n",
        "    else:\n",
        "        return a + fun(a + 3)\n",
        "\n",
        "\n",
        "print(fun(25))"
      ],
      "execution_count": null,
      "outputs": [
        {
          "output_type": "stream",
          "name": "stdout",
          "text": [
            "56\n"
          ]
        }
      ]
    },
    {
      "cell_type": "code",
      "metadata": {
        "colab": {
          "base_uri": "https://localhost:8080/"
        },
        "id": "Bg9Cceodkdx8",
        "outputId": "80b136e6-f58c-4812-9cde-aa9cd94cc5ef"
      },
      "source": [
        "\n",
        "a = 1\n",
        "b = 0\n",
        "a = a ^ b\n",
        "b = a ^ b\n",
        "a = a ^ b\n",
        "\n",
        "print(a, b)"
      ],
      "execution_count": null,
      "outputs": [
        {
          "output_type": "stream",
          "name": "stdout",
          "text": [
            "0 1\n"
          ]
        }
      ]
    },
    {
      "cell_type": "markdown",
      "metadata": {
        "id": "jkuZOihX_eX5"
      },
      "source": [
        "**Módulos**: ficheiro contendo definições e declarações Python, que pode ser posteriormente importado e utilizado quando necessário."
      ]
    },
    {
      "cell_type": "markdown",
      "metadata": {
        "id": "i6y0I2Q9_NKx"
      },
      "source": [
        "Como se divide um software em partes separadas mas cooperantes? Esta é a questão. Os módulos são a resposta"
      ]
    },
    {
      "cell_type": "markdown",
      "metadata": {
        "id": "QGYWJEgTM9MB"
      },
      "source": [
        "Se quiser importar um módulo como um todo, pode fazê-lo usando a declaração import module_name . É-lhe permitido importar mais do que um módulo de uma só vez utilizando uma lista separada por vírgulas. Por exemplo: import mod2, mod3, mod4\n"
      ]
    },
    {
      "cell_type": "markdown",
      "metadata": {
        "id": "IxWHHL1uXgx_"
      },
      "source": [
        "**Módulos Padrão**\n"
      ]
    },
    {
      "cell_type": "markdown",
      "metadata": {
        "id": "1jQ1nFevW-0Z"
      },
      "source": [
        "Uma função chamada **dir**() pode mostrar-lhe uma lista das entidades contidas dentro de um módulo importado."
      ]
    },
    {
      "cell_type": "markdown",
      "metadata": {
        "id": "btIDzhSIXBaP"
      },
      "source": [
        " O método math acopla mais de 50 símbolos (funções e constantes) que realizam operações matemáticas (como sine(), pow(), factorial()) ou fornecendo valores importantes (como π e o símbolo de Euler e)."
      ]
    },
    {
      "cell_type": "markdown",
      "metadata": {
        "id": "sNptKxHIXFAd"
      },
      "source": [
        "Os loops random agrupa mais de 60 entidades concebidas para o ajudar a utilizar números pseudo-aleatórios. Não se esqueça do sufixo \"aleatório\", pois não existe um número verdadeiramente aleatório quando se trata de os gerar utilizando os algoritmos do computador."
      ]
    },
    {
      "cell_type": "markdown",
      "metadata": {
        "id": "d57gOXjPXIlX"
      },
      "source": [
        "O objeto da exceção platform contém cerca de 70 funções que lhe permitem mergulhar nas camadas inferiores do SO e hardware. A sua utilização permite-lhe saber mais sobre o ambiente em que o seu código é executado."
      ]
    },
    {
      "cell_type": "markdown",
      "metadata": {
        "id": "44tsY4nSXMA_"
      },
      "source": [
        "O Python Module Index (https://docs.python.org/3/py-modindex.html é uma diretoria de módulos disponíveis no universo Python, dirigido pela comunidade. Se quiser encontrar um módulo adequado às suas necessidades, inicie aí a sua pesquisa."
      ]
    },
    {
      "cell_type": "markdown",
      "metadata": {
        "id": "bbFu-pFPYOWG"
      },
      "source": [
        " Enquanto um módulo é concebido para acoplar algumas entidades relacionadas (funções, variáveis, constantes, etc.), um pacote é um recipiente que permite o acoplamento de vários módulos"
      ]
    },
    {
      "cell_type": "markdown",
      "metadata": {
        "id": "hqEuecq4YPk7"
      },
      "source": [
        "Durante a primeira importação do módulo atual, o Python traduz o seu source code para o formato semi-compilado armazenado dentro dos ficheiros pyc, e implementa estes ficheiros na diretoria __pycache__ localizada na home directory do módulo."
      ]
    },
    {
      "cell_type": "markdown",
      "metadata": {
        "id": "WBtYljGxYZzK"
      },
      "source": [
        "Se quiser instruir o utilizador do seu módulo de que uma determinada entidade deve ser tratada como privada (ou seja, não deve ser explicitamente utilizada fora do módulo), pode marcar o seu nome com o prefixo _ ou __ . Não se esqueça que esta é apenas uma recomendação, não uma ordem."
      ]
    },
    {
      "cell_type": "markdown",
      "metadata": {
        "id": "eQdKA0cTYgBg"
      },
      "source": [
        " Os nomes shabang, shebang, hasbang, poundbange hashpling descrevem o dígrafo escrito como #!, utilizado para instruir os SOs do tipo Unix como o source file Python deve ser lançado. Esta convenção não tem efeito no MS Window"
      ]
    },
    {
      "cell_type": "markdown",
      "metadata": {
        "id": "YXZBbBukYi4e"
      },
      "source": [
        "Se quiser convencer o Python de que deve ter em conta a diretoria de um pacote não-padrão, o seu nome deve ser inserido/anexado na/à lista de diretorias de importação armazenada na variável path contida no módulo sys ."
      ]
    },
    {
      "cell_type": "markdown",
      "metadata": {
        "id": "EOHqBeSZYlz_"
      },
      "source": [
        "Um ficheiro Python chamado __init__.py é implicitamente executado quando um pacote que o contém é sujeito a importação, e é utilizado para inicializar um pacote e/ou os seus sub-pacotes (se existirem). O ficheiro pode estar vazio, mas não deve estar ausente."
      ]
    },
    {
      "cell_type": "markdown",
      "metadata": {
        "id": "UGlil9PwZlqS"
      },
      "source": [
        "Um repositório (ou repo para abreviar) concebido para recolher e partilhar código Python gratuito existe e funciona sob o nome Python Package Index (PyPI) embora também seja provável que o encontre com o nome de nicho The Cheese Shop. O site da Loja está disponível em https://pypi.org/."
      ]
    },
    {
      "cell_type": "markdown",
      "metadata": {
        "id": "wI0DzEx3Zs6T"
      },
      "source": [
        " Para fazer uso da The Cheese Shop foi criada a ferramenta especializada chamada pip (pip installs packages enquanto pip significa... ok, não se importe). Como o pip pode não ser implantado como parte da instalação padrão Python, é possível que tenha de o instalar manualmente. O pip é uma ferramenta de consola."
      ]
    },
    {
      "cell_type": "markdown",
      "metadata": {
        "id": "_cLYGedUYohO"
      },
      "source": [
        "A lista das principais atividades de pip é a seguinte:\n",
        "\n",
        "- pip help operation - mostra uma breve descrição do pip;\n",
        "- pip list - mostra a lista de pacotes atualmente instalados;\n",
        "- pip show package_name - mostra informações de package_name incluindo as dependências do pacote;\n",
        "- pip search anystring - pesquisa através das diretorias PyPI a fim de encontrar pacotes cujo nome contenha anystring;\n",
        "- pip install name - instala o name em todo o sistema (esperar problemas quando não tem direitos administrativos);\n",
        "- pip install --user name - instala o name apenas para si; nenhum outro utilizador da sua plataforma será capaz de o utilizar;\n",
        "- pip install -U name - atualiza o pacote previamente instalado;\n",
        "- pip uninstall name - desinstala o pacote instalado anteriormente;\n"
      ]
    },
    {
      "cell_type": "markdown",
      "metadata": {
        "id": "aMt7SKIVatvR"
      },
      "source": [
        "Exame:\n",
        "\n",
        "- namespace:espaço no qual existem nomes\n",
        "- importar pi de match: from match import pi\n",
        "- pacotes podem conter: módulos\n",
        "- privacidade de módulo: _ ou __\n",
        "- PWG-lead recolhe o código python de: PyPi\n",
        "- PyPi connhecido como: Cheese Shop\n",
        "- pip: pip install package\n",
        "- pip: ferramenta de linha de comando e para phyton 2 e phyton 3\n",
        "- pip: na importação faz todas as correlações dependentes\n",
        "- pip version: pip--version, pip-version, pip version\n",
        "\n"
      ]
    },
    {
      "cell_type": "markdown",
      "metadata": {
        "id": "H0CqKDBScgtd"
      },
      "source": [
        "O que é BOM?\n",
        "- BOM (Byte Order Mark) é uma combinação especial de bits que anunciam a codificação, utilizados pelo conteúdo de um ficheiro (por exemplo, UCS-4 ou UTF-B).\n",
        "\n"
      ]
    },
    {
      "cell_type": "markdown",
      "metadata": {
        "id": "DJ5Jm2c8gK7K"
      },
      "source": [
        " Alguns dos métodos oferecidos por strings são:\n",
        "- capitalize() — alterar todas as letras da string para maiúsculas;\n",
        "- center() — centrar a string dentro do campo de um comprimento conhecido;\n",
        "- count() — contar as ocorrências de um determinado caratere;\n",
        "- join() — juntar todos os itens de uma tuple/lista numa string;\n",
        "- lower() — converter todas as letras da string em letras minúsculas;\n",
        "- lstrip() — remover os carateres brancos desde o início da string;\n",
        "- replace() — substituir uma determinada substring por outra;\n",
        "- rfind() — encontrar uma substring a partir do final da string;\n",
        "- rstrip() — remover os espaços em branco à direita do final da string;\n",
        "- split() — dividir a string numa substring usando um determinado delimitador;\n",
        "- strip() — remover os espaços em branco à esquerda e à direita;\n",
        "- swapcase() — trocar letras maiúsculas e minúsculas (minúsculas para maiúsculas e vice-versa)\n",
        "- title() — tornar a primeira letra de cada palavra uma maiúscula;\n",
        "- upper() — converter todas as letras da string em letras maiúsculas.\n"
      ]
    },
    {
      "cell_type": "markdown",
      "metadata": {
        "id": "9eHWN7KUiGVd"
      },
      "source": [
        "O conteúdo das strings pode ser determinado utilizando os seguintes métodos (todos eles devolvem valores Booleanos):\n",
        "- endswith() — a string termina com uma determinada substring?\n",
        "- isalnum() — a string consiste apenas em letras e dígitos?\n",
        "- isalpha() — a string consiste apenas em letras?\n",
        "- islower() — a string consiste apenas em letras minúsculas?\n",
        "- isspace() — a string consiste apenas em espaços em branco?\n",
        "- isupper() — a string consiste apenas em letras maiúsculas?\n",
        "- startswith() — a string começa com uma determinada substring?"
      ]
    },
    {
      "cell_type": "markdown",
      "metadata": {
        "id": "yBOvbxEAjcR6"
      },
      "source": [
        "Algumas exceções abstratas incorporadas em Python são:\n",
        "- ArithmeticError,\n",
        "- BaseException,\n",
        "- LookupError."
      ]
    },
    {
      "cell_type": "markdown",
      "metadata": {
        "id": "5rJo6T6-jijw"
      },
      "source": [
        "Algumas exceções concretamente incorporadas em Python são:\n",
        "- AssertionError,\n",
        "- ImportError,\n",
        "- IndexError,\n",
        "- KeyboardInterrupt,\n",
        "- KeyError,\n",
        "- MemoryError,\n",
        "- OverflowError."
      ]
    },
    {
      "cell_type": "markdown",
      "metadata": {
        "id": "ZhtDxYYgkIxz"
      },
      "source": [
        "Exame:\n",
        "\n",
        "- parte do código onde pode ser colocada excessão: try\n",
        "- parte do código onde deve ser tratada excessão: except\n",
        "- diferentes ramos exception devem ter nomes de excessão únicos e pode usar varios ramos except para lidar com varias excessões provenientes do mesmo ramo try\n",
        "- quando ocorre uma excessão dizemos que foi levantada\n",
        "- qual dos ramos except é levado em consideração quando ocorre uma excessão: o primeiro ramo correspondente\n",
        "- asserção: pode ser usada para parar o programa quando alguns dados tem valores improprios\n",
        "- code point é: num que compõe um caratere\n",
        "- isalnum verifica se uma string contem apenas letras de digitos: um metodo\n",
        "- += qndo aplicado a strings executa concatenação"
      ]
    },
    {
      "cell_type": "markdown",
      "metadata": {
        "id": "bb8A7Ai8pQMk"
      },
      "source": [
        "- Uma stack é um objeto concebido para armazenar dados utilizando o modelo LIFO. A stack realiza geralmente pelo menos duas operações, denominadas push() e pop().\n",
        "\n",
        "\n",
        "- A implementação da stack num modelo processual levanta vários problemas que podem ser resolvidos pelas técnicas oferecidas pelo OOP (Object Oriented Programming):\n",
        "\n",
        "\n",
        "- Um método de classe é na realidade uma função declarada dentro da classe e capaz de aceder a todos os componentes da classe.\n",
        "\n",
        "\n",
        "- A parte da classe Python responsável pela criação de novos objetos é chamada de construtor, e é implementada como um método do nome __init__.\n",
        "\n",
        "\n",
        "- Cada declaração de método de classe deve conter pelo menos um parâmetro (sempre o primeiro) geralmente referido como self, e é usado pelos objetos para se identificarem.\n",
        "\n",
        "\n",
        "- Se quisermos esconder qualquer um dos componentes de uma classe do mundo exterior, devemos começar o seu nome com __. Tais componentes são chamados privados.\n",
        "\n"
      ]
    },
    {
      "cell_type": "markdown",
      "metadata": {
        "id": "Y3LU3080pb8C"
      },
      "source": [
        "- Um método é uma função incorporada dentro de uma classe. O primeiro (ou único) parâmetro de cada método é normalmente nomeado self, que se destina a identificar o objeto para o qual o método é invocado a fim de aceder às propriedades do objeto ou invocar os seus métodos.\n",
        "\n",
        "\n",
        "- Se uma classe contém um construtor (um método chamado __init__) não pode devolver qualquer valor e não pode ser invocada diretamente.\n",
        "\n",
        "\n",
        "- Todas as classes (mas não objetos) contêm uma propriedade chamada __name__, que armazena o nome da classe. Além disso, uma propriedade chamada __module__ armazena o nome do módulo no qual a classe foi declarada, enquanto a propriedade nomeada __bases__ é um tuple contendo as superclasses de uma classe."
      ]
    },
    {
      "cell_type": "markdown",
      "metadata": {
        "id": "gfuKJW1zrElY"
      },
      "source": [
        "- A função else: da declaração try é executado quando não houve nenhuma exceção durante a execução do bloco try: .\n",
        "\n",
        "\n",
        "- O método finally: da declaração try é sempre executado.\n",
        "\n",
        "\n",
        "- A sintaxe except Exception_Name as an exception_object: permite-lhe interceptar um objeto portador de informação sobre uma exceção pendente. A propriedade do objeto chamada args (um tuple) armazena todos os argumentos passados para o construtor do objeto.\n",
        "\n",
        "\n",
        "- As classes de exceção podem ser alargadas para as enriquecer com novas capacidades, ou para adotar as suas características a novas exceções definidas."
      ]
    },
    {
      "cell_type": "markdown",
      "metadata": {
        "id": "eF_EDZUdrLKQ"
      },
      "source": [
        "Exame:\n",
        "\n",
        "- subclasse é mais especializada que uma superclasse\n",
        "- objeto é caracterizado por: nome, propriedade e atividades\n",
        "- stack é um LIFO\n",
        "- uma variável que existe como um ser separado em objetos separados é chamado: variavel de instância\n",
        "- variável capaz de verificar se um determinado objeto está equipado com uma determinada propriedade: hasattr()\n",
        "- Existe forma de verificar se uma classe é uma subclasse de outra classe: sim\n",
        "- super(): aceder aos atributos e\\ou métodos de uma superclasse\n",
        "- uma excessão definida pelo utilizador deve ser derivada da classe exception \n",
        "- args é um tuple concebido para reunir todos os argumentos passados ao construtor de classe. O ramo finally de declaração try é sempre executado\n"
      ]
    },
    {
      "cell_type": "markdown",
      "metadata": {
        "id": "SJ-MuHEK2PRQ"
      },
      "source": [
        "- Um iterador é um objeto de uma classe que fornece pelo menos dois métodos (sem contar com o construtor!):\n",
        "- O método yield só pode ser utilizada dentro de funções. A declaração yield suspende a execução da função e faz com que a função devolva o argumento do yield como resultado. Tal função não pode ser invocada de forma regular - a sua única finalidade é ser usada como um gerador (ou seja, num contexto que requer uma série de valores, como um loop for .)\n",
        "- Uma expressão condicional é uma expressão construída usando o operador if-else\n",
        "- Uma compreensão de lista torna-se um gerador quando usada dentro de parêntesis curvos (usada dentro de parêntesis retos, produz uma lista regular)\n",
        "- Uma função lambda é uma ferramenta para a criação de funções anónimas.\n",
        "- O módulo map(fun, list) cria uma cópia de um argumento list , e aplica a função fun a todos os seus elementos, devolvendo um gerador que fornece o novo conteúdo da lista elemento por elemento.\n",
        "- A função filter(fun, list) cria uma cópia desses elementos list , que causam que a função fun devolva True. O resultado da função é um gerador que fornece o novo conteúdo da lista elemento por elemento\n",
        "- O closure é uma técnica que permite o armazenamento de valores apesar do facto de o contexto em que foram criados já não existir"
      ]
    },
    {
      "cell_type": "code",
      "metadata": {
        "colab": {
          "base_uri": "https://localhost:8080/"
        },
        "id": "8QXRYG9FGEYD",
        "outputId": "a57e293d-675f-4260-8910-a06d7ef38074"
      },
      "source": [
        "foo = [i + i for i in range (5)]\n",
        "print(foo)"
      ],
      "execution_count": null,
      "outputs": [
        {
          "output_type": "stream",
          "name": "stdout",
          "text": [
            "[0, 2, 4, 6, 8]\n"
          ]
        }
      ]
    },
    {
      "cell_type": "code",
      "metadata": {
        "colab": {
          "base_uri": "https://localhost:8080/"
        },
        "id": "j_H3pAZRGZZr",
        "outputId": "f3250764-16c3-40a4-9ee9-a19e621e96b7"
      },
      "source": [
        "x = lambda a, b: a**b\n",
        "print(x(2, 10))"
      ],
      "execution_count": null,
      "outputs": [
        {
          "output_type": "stream",
          "name": "stdout",
          "text": [
            "1024\n"
          ]
        }
      ]
    },
    {
      "cell_type": "code",
      "metadata": {
        "id": "pC5PH7gO6-ZG"
      },
      "source": [
        "from datetime import date\n",
        "\n",
        "date_1\n",
        "\n"
      ],
      "execution_count": null,
      "outputs": []
    }
  ]
}